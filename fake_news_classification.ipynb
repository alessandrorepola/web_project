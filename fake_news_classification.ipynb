{
  "cells": [
    {
      "cell_type": "markdown",
      "metadata": {
        "id": "80YBZATzM6Gj"
      },
      "source": [
        "# Exploration\n",
        "\n",
        "## Read the data"
      ]
    },
    {
      "cell_type": "code",
      "execution_count": 1,
      "metadata": {
        "execution": {
          "iopub.execute_input": "2023-10-09T13:52:54.21661Z",
          "iopub.status.busy": "2023-10-09T13:52:54.215941Z",
          "iopub.status.idle": "2023-10-09T13:52:57.703711Z",
          "shell.execute_reply": "2023-10-09T13:52:57.702837Z",
          "shell.execute_reply.started": "2023-10-09T13:52:54.21657Z"
        },
        "trusted": true,
        "id": "9LM0lrvBM6Gk"
      },
      "outputs": [],
      "source": [
        "import pandas as pd\n",
        "\n",
        "## Read the data\n",
        "data = pd.read_csv('WELFake_Dataset.csv.zip', index_col=0)"
      ]
    },
    {
      "cell_type": "code",
      "execution_count": 2,
      "metadata": {
        "execution": {
          "iopub.execute_input": "2023-10-09T13:52:57.705734Z",
          "iopub.status.busy": "2023-10-09T13:52:57.705339Z",
          "iopub.status.idle": "2023-10-09T13:52:57.716841Z",
          "shell.execute_reply": "2023-10-09T13:52:57.715685Z",
          "shell.execute_reply.started": "2023-10-09T13:52:57.705696Z"
        },
        "trusted": true,
        "colab": {
          "base_uri": "https://localhost:8080/",
          "height": 293
        },
        "id": "rtTHcpIZM6Gm",
        "outputId": "d6834fb5-ae9b-4d5f-ed35-7a3407057fe7"
      },
      "outputs": [
        {
          "output_type": "execute_result",
          "data": {
            "text/plain": [
              "                                               title  \\\n",
              "0  LAW ENFORCEMENT ON HIGH ALERT Following Threat...   \n",
              "1                                                NaN   \n",
              "2  UNBELIEVABLE! OBAMA’S ATTORNEY GENERAL SAYS MO...   \n",
              "3  Bobby Jindal, raised Hindu, uses story of Chri...   \n",
              "4  SATAN 2: Russia unvelis an image of its terrif...   \n",
              "\n",
              "                                                text  label  \n",
              "0  No comment is expected from Barack Obama Membe...      1  \n",
              "1     Did they post their votes for Hillary already?      1  \n",
              "2   Now, most of the demonstrators gathered last ...      1  \n",
              "3  A dozen politically active pastors came here f...      0  \n",
              "4  The RS-28 Sarmat missile, dubbed Satan 2, will...      1  "
            ],
            "text/html": [
              "\n",
              "  <div id=\"df-85c67f8e-83fb-4492-8c24-306a91939e40\" class=\"colab-df-container\">\n",
              "    <div>\n",
              "<style scoped>\n",
              "    .dataframe tbody tr th:only-of-type {\n",
              "        vertical-align: middle;\n",
              "    }\n",
              "\n",
              "    .dataframe tbody tr th {\n",
              "        vertical-align: top;\n",
              "    }\n",
              "\n",
              "    .dataframe thead th {\n",
              "        text-align: right;\n",
              "    }\n",
              "</style>\n",
              "<table border=\"1\" class=\"dataframe\">\n",
              "  <thead>\n",
              "    <tr style=\"text-align: right;\">\n",
              "      <th></th>\n",
              "      <th>title</th>\n",
              "      <th>text</th>\n",
              "      <th>label</th>\n",
              "    </tr>\n",
              "  </thead>\n",
              "  <tbody>\n",
              "    <tr>\n",
              "      <th>0</th>\n",
              "      <td>LAW ENFORCEMENT ON HIGH ALERT Following Threat...</td>\n",
              "      <td>No comment is expected from Barack Obama Membe...</td>\n",
              "      <td>1</td>\n",
              "    </tr>\n",
              "    <tr>\n",
              "      <th>1</th>\n",
              "      <td>NaN</td>\n",
              "      <td>Did they post their votes for Hillary already?</td>\n",
              "      <td>1</td>\n",
              "    </tr>\n",
              "    <tr>\n",
              "      <th>2</th>\n",
              "      <td>UNBELIEVABLE! OBAMA’S ATTORNEY GENERAL SAYS MO...</td>\n",
              "      <td>Now, most of the demonstrators gathered last ...</td>\n",
              "      <td>1</td>\n",
              "    </tr>\n",
              "    <tr>\n",
              "      <th>3</th>\n",
              "      <td>Bobby Jindal, raised Hindu, uses story of Chri...</td>\n",
              "      <td>A dozen politically active pastors came here f...</td>\n",
              "      <td>0</td>\n",
              "    </tr>\n",
              "    <tr>\n",
              "      <th>4</th>\n",
              "      <td>SATAN 2: Russia unvelis an image of its terrif...</td>\n",
              "      <td>The RS-28 Sarmat missile, dubbed Satan 2, will...</td>\n",
              "      <td>1</td>\n",
              "    </tr>\n",
              "  </tbody>\n",
              "</table>\n",
              "</div>\n",
              "    <div class=\"colab-df-buttons\">\n",
              "\n",
              "  <div class=\"colab-df-container\">\n",
              "    <button class=\"colab-df-convert\" onclick=\"convertToInteractive('df-85c67f8e-83fb-4492-8c24-306a91939e40')\"\n",
              "            title=\"Convert this dataframe to an interactive table.\"\n",
              "            style=\"display:none;\">\n",
              "\n",
              "  <svg xmlns=\"http://www.w3.org/2000/svg\" height=\"24px\" viewBox=\"0 -960 960 960\">\n",
              "    <path d=\"M120-120v-720h720v720H120Zm60-500h600v-160H180v160Zm220 220h160v-160H400v160Zm0 220h160v-160H400v160ZM180-400h160v-160H180v160Zm440 0h160v-160H620v160ZM180-180h160v-160H180v160Zm440 0h160v-160H620v160Z\"/>\n",
              "  </svg>\n",
              "    </button>\n",
              "\n",
              "  <style>\n",
              "    .colab-df-container {\n",
              "      display:flex;\n",
              "      gap: 12px;\n",
              "    }\n",
              "\n",
              "    .colab-df-convert {\n",
              "      background-color: #E8F0FE;\n",
              "      border: none;\n",
              "      border-radius: 50%;\n",
              "      cursor: pointer;\n",
              "      display: none;\n",
              "      fill: #1967D2;\n",
              "      height: 32px;\n",
              "      padding: 0 0 0 0;\n",
              "      width: 32px;\n",
              "    }\n",
              "\n",
              "    .colab-df-convert:hover {\n",
              "      background-color: #E2EBFA;\n",
              "      box-shadow: 0px 1px 2px rgba(60, 64, 67, 0.3), 0px 1px 3px 1px rgba(60, 64, 67, 0.15);\n",
              "      fill: #174EA6;\n",
              "    }\n",
              "\n",
              "    .colab-df-buttons div {\n",
              "      margin-bottom: 4px;\n",
              "    }\n",
              "\n",
              "    [theme=dark] .colab-df-convert {\n",
              "      background-color: #3B4455;\n",
              "      fill: #D2E3FC;\n",
              "    }\n",
              "\n",
              "    [theme=dark] .colab-df-convert:hover {\n",
              "      background-color: #434B5C;\n",
              "      box-shadow: 0px 1px 3px 1px rgba(0, 0, 0, 0.15);\n",
              "      filter: drop-shadow(0px 1px 2px rgba(0, 0, 0, 0.3));\n",
              "      fill: #FFFFFF;\n",
              "    }\n",
              "  </style>\n",
              "\n",
              "    <script>\n",
              "      const buttonEl =\n",
              "        document.querySelector('#df-85c67f8e-83fb-4492-8c24-306a91939e40 button.colab-df-convert');\n",
              "      buttonEl.style.display =\n",
              "        google.colab.kernel.accessAllowed ? 'block' : 'none';\n",
              "\n",
              "      async function convertToInteractive(key) {\n",
              "        const element = document.querySelector('#df-85c67f8e-83fb-4492-8c24-306a91939e40');\n",
              "        const dataTable =\n",
              "          await google.colab.kernel.invokeFunction('convertToInteractive',\n",
              "                                                    [key], {});\n",
              "        if (!dataTable) return;\n",
              "\n",
              "        const docLinkHtml = 'Like what you see? Visit the ' +\n",
              "          '<a target=\"_blank\" href=https://colab.research.google.com/notebooks/data_table.ipynb>data table notebook</a>'\n",
              "          + ' to learn more about interactive tables.';\n",
              "        element.innerHTML = '';\n",
              "        dataTable['output_type'] = 'display_data';\n",
              "        await google.colab.output.renderOutput(dataTable, element);\n",
              "        const docLink = document.createElement('div');\n",
              "        docLink.innerHTML = docLinkHtml;\n",
              "        element.appendChild(docLink);\n",
              "      }\n",
              "    </script>\n",
              "  </div>\n",
              "\n",
              "\n",
              "<div id=\"df-be4c718c-abfd-402c-89bd-b4ca4e3b18ee\">\n",
              "  <button class=\"colab-df-quickchart\" onclick=\"quickchart('df-be4c718c-abfd-402c-89bd-b4ca4e3b18ee')\"\n",
              "            title=\"Suggest charts.\"\n",
              "            style=\"display:none;\">\n",
              "\n",
              "<svg xmlns=\"http://www.w3.org/2000/svg\" height=\"24px\"viewBox=\"0 0 24 24\"\n",
              "     width=\"24px\">\n",
              "    <g>\n",
              "        <path d=\"M19 3H5c-1.1 0-2 .9-2 2v14c0 1.1.9 2 2 2h14c1.1 0 2-.9 2-2V5c0-1.1-.9-2-2-2zM9 17H7v-7h2v7zm4 0h-2V7h2v10zm4 0h-2v-4h2v4z\"/>\n",
              "    </g>\n",
              "</svg>\n",
              "  </button>\n",
              "\n",
              "<style>\n",
              "  .colab-df-quickchart {\n",
              "      --bg-color: #E8F0FE;\n",
              "      --fill-color: #1967D2;\n",
              "      --hover-bg-color: #E2EBFA;\n",
              "      --hover-fill-color: #174EA6;\n",
              "      --disabled-fill-color: #AAA;\n",
              "      --disabled-bg-color: #DDD;\n",
              "  }\n",
              "\n",
              "  [theme=dark] .colab-df-quickchart {\n",
              "      --bg-color: #3B4455;\n",
              "      --fill-color: #D2E3FC;\n",
              "      --hover-bg-color: #434B5C;\n",
              "      --hover-fill-color: #FFFFFF;\n",
              "      --disabled-bg-color: #3B4455;\n",
              "      --disabled-fill-color: #666;\n",
              "  }\n",
              "\n",
              "  .colab-df-quickchart {\n",
              "    background-color: var(--bg-color);\n",
              "    border: none;\n",
              "    border-radius: 50%;\n",
              "    cursor: pointer;\n",
              "    display: none;\n",
              "    fill: var(--fill-color);\n",
              "    height: 32px;\n",
              "    padding: 0;\n",
              "    width: 32px;\n",
              "  }\n",
              "\n",
              "  .colab-df-quickchart:hover {\n",
              "    background-color: var(--hover-bg-color);\n",
              "    box-shadow: 0 1px 2px rgba(60, 64, 67, 0.3), 0 1px 3px 1px rgba(60, 64, 67, 0.15);\n",
              "    fill: var(--button-hover-fill-color);\n",
              "  }\n",
              "\n",
              "  .colab-df-quickchart-complete:disabled,\n",
              "  .colab-df-quickchart-complete:disabled:hover {\n",
              "    background-color: var(--disabled-bg-color);\n",
              "    fill: var(--disabled-fill-color);\n",
              "    box-shadow: none;\n",
              "  }\n",
              "\n",
              "  .colab-df-spinner {\n",
              "    border: 2px solid var(--fill-color);\n",
              "    border-color: transparent;\n",
              "    border-bottom-color: var(--fill-color);\n",
              "    animation:\n",
              "      spin 1s steps(1) infinite;\n",
              "  }\n",
              "\n",
              "  @keyframes spin {\n",
              "    0% {\n",
              "      border-color: transparent;\n",
              "      border-bottom-color: var(--fill-color);\n",
              "      border-left-color: var(--fill-color);\n",
              "    }\n",
              "    20% {\n",
              "      border-color: transparent;\n",
              "      border-left-color: var(--fill-color);\n",
              "      border-top-color: var(--fill-color);\n",
              "    }\n",
              "    30% {\n",
              "      border-color: transparent;\n",
              "      border-left-color: var(--fill-color);\n",
              "      border-top-color: var(--fill-color);\n",
              "      border-right-color: var(--fill-color);\n",
              "    }\n",
              "    40% {\n",
              "      border-color: transparent;\n",
              "      border-right-color: var(--fill-color);\n",
              "      border-top-color: var(--fill-color);\n",
              "    }\n",
              "    60% {\n",
              "      border-color: transparent;\n",
              "      border-right-color: var(--fill-color);\n",
              "    }\n",
              "    80% {\n",
              "      border-color: transparent;\n",
              "      border-right-color: var(--fill-color);\n",
              "      border-bottom-color: var(--fill-color);\n",
              "    }\n",
              "    90% {\n",
              "      border-color: transparent;\n",
              "      border-bottom-color: var(--fill-color);\n",
              "    }\n",
              "  }\n",
              "</style>\n",
              "\n",
              "  <script>\n",
              "    async function quickchart(key) {\n",
              "      const quickchartButtonEl =\n",
              "        document.querySelector('#' + key + ' button');\n",
              "      quickchartButtonEl.disabled = true;  // To prevent multiple clicks.\n",
              "      quickchartButtonEl.classList.add('colab-df-spinner');\n",
              "      try {\n",
              "        const charts = await google.colab.kernel.invokeFunction(\n",
              "            'suggestCharts', [key], {});\n",
              "      } catch (error) {\n",
              "        console.error('Error during call to suggestCharts:', error);\n",
              "      }\n",
              "      quickchartButtonEl.classList.remove('colab-df-spinner');\n",
              "      quickchartButtonEl.classList.add('colab-df-quickchart-complete');\n",
              "    }\n",
              "    (() => {\n",
              "      let quickchartButtonEl =\n",
              "        document.querySelector('#df-be4c718c-abfd-402c-89bd-b4ca4e3b18ee button');\n",
              "      quickchartButtonEl.style.display =\n",
              "        google.colab.kernel.accessAllowed ? 'block' : 'none';\n",
              "    })();\n",
              "  </script>\n",
              "</div>\n",
              "    </div>\n",
              "  </div>\n"
            ]
          },
          "metadata": {},
          "execution_count": 2
        }
      ],
      "source": [
        "## Check\n",
        "\n",
        "data.head()"
      ]
    },
    {
      "cell_type": "code",
      "execution_count": 3,
      "metadata": {
        "execution": {
          "iopub.execute_input": "2023-10-09T13:52:57.719398Z",
          "iopub.status.busy": "2023-10-09T13:52:57.719104Z",
          "iopub.status.idle": "2023-10-09T13:52:57.730974Z",
          "shell.execute_reply": "2023-10-09T13:52:57.730247Z",
          "shell.execute_reply.started": "2023-10-09T13:52:57.719374Z"
        },
        "trusted": true,
        "colab": {
          "base_uri": "https://localhost:8080/"
        },
        "id": "_Ikkq2x6M6Gm",
        "outputId": "bf018815-ff34-4bed-d41b-9f3085199291"
      },
      "outputs": [
        {
          "output_type": "execute_result",
          "data": {
            "text/plain": [
              "(72134, 3)"
            ]
          },
          "metadata": {},
          "execution_count": 3
        }
      ],
      "source": [
        "## Shape of the data -- number of rows and columns\n",
        "data.shape"
      ]
    },
    {
      "cell_type": "markdown",
      "metadata": {
        "id": "0RsVxjVvM6Gn"
      },
      "source": [
        "We have **72,134** rows, as mentioned in the data card of the Kaggle page.\n",
        "\n",
        "* The preamble also mentions that there is about a half split of real and fake news, with 35k real and 37k fake news. We can verify below"
      ]
    },
    {
      "cell_type": "code",
      "execution_count": 4,
      "metadata": {
        "execution": {
          "iopub.execute_input": "2023-10-09T13:52:57.732495Z",
          "iopub.status.busy": "2023-10-09T13:52:57.732246Z",
          "iopub.status.idle": "2023-10-09T13:52:57.74846Z",
          "shell.execute_reply": "2023-10-09T13:52:57.747309Z",
          "shell.execute_reply.started": "2023-10-09T13:52:57.732474Z"
        },
        "trusted": true,
        "colab": {
          "base_uri": "https://localhost:8080/"
        },
        "id": "NQo15Sm2M6Gn",
        "outputId": "ad83cf57-858a-49da-e377-0276e6e91264"
      },
      "outputs": [
        {
          "output_type": "execute_result",
          "data": {
            "text/plain": [
              "1    37106\n",
              "0    35028\n",
              "Name: label, dtype: int64"
            ]
          },
          "metadata": {},
          "execution_count": 4
        }
      ],
      "source": [
        "data.label.value_counts()"
      ]
    },
    {
      "cell_type": "code",
      "execution_count": 5,
      "metadata": {
        "execution": {
          "iopub.execute_input": "2023-10-09T13:52:57.750251Z",
          "iopub.status.busy": "2023-10-09T13:52:57.749914Z",
          "iopub.status.idle": "2023-10-09T13:52:57.994725Z",
          "shell.execute_reply": "2023-10-09T13:52:57.993708Z",
          "shell.execute_reply.started": "2023-10-09T13:52:57.750223Z"
        },
        "trusted": true,
        "colab": {
          "base_uri": "https://localhost:8080/",
          "height": 467
        },
        "id": "5kyRTi0wM6Gn",
        "outputId": "6439543b-4849-454f-c6ae-71ced7271561"
      },
      "outputs": [
        {
          "output_type": "display_data",
          "data": {
            "text/plain": [
              "<Figure size 640x480 with 1 Axes>"
            ],
            "image/png": "[encoded data removed]"
          },
          "metadata": {}
        }
      ],
      "source": [
        "import matplotlib.pyplot as plt\n",
        "\n",
        "data.label.value_counts().plot(kind = 'bar', color = ['red','green'])\n",
        "plt.xlabel(\"Fake news\")\n",
        "plt.title(\"Distribution of fake news labels\")\n",
        "plt.show()"
      ]
    },
    {
      "cell_type": "markdown",
      "metadata": {
        "id": "mPRWuYq8M6Gn"
      },
      "source": [
        "## Missing data"
      ]
    },
    {
      "cell_type": "code",
      "execution_count": 6,
      "metadata": {
        "execution": {
          "iopub.execute_input": "2023-10-09T13:52:57.996455Z",
          "iopub.status.busy": "2023-10-09T13:52:57.995727Z",
          "iopub.status.idle": "2023-10-09T13:52:58.023913Z",
          "shell.execute_reply": "2023-10-09T13:52:58.022682Z",
          "shell.execute_reply.started": "2023-10-09T13:52:57.996429Z"
        },
        "trusted": true,
        "colab": {
          "base_uri": "https://localhost:8080/"
        },
        "id": "Wo22YOuEM6Gn",
        "outputId": "36e3786f-53fa-4cd0-9e83-98d65b9f8351"
      },
      "outputs": [
        {
          "output_type": "execute_result",
          "data": {
            "text/plain": [
              "title    558\n",
              "text      39\n",
              "label      0\n",
              "dtype: int64"
            ]
          },
          "metadata": {},
          "execution_count": 6
        }
      ],
      "source": [
        "data.isnull().sum()"
      ]
    },
    {
      "cell_type": "code",
      "execution_count": 7,
      "metadata": {
        "execution": {
          "iopub.execute_input": "2023-10-09T13:52:58.026741Z",
          "iopub.status.busy": "2023-10-09T13:52:58.026025Z",
          "iopub.status.idle": "2023-10-09T13:52:58.064567Z",
          "shell.execute_reply": "2023-10-09T13:52:58.063434Z",
          "shell.execute_reply.started": "2023-10-09T13:52:58.026713Z"
        },
        "trusted": true,
        "id": "E0wyKYn7M6Gn"
      },
      "outputs": [],
      "source": [
        "data = data.fillna(' ')"
      ]
    },
    {
      "cell_type": "code",
      "execution_count": 8,
      "metadata": {
        "execution": {
          "iopub.execute_input": "2023-10-09T13:52:58.066606Z",
          "iopub.status.busy": "2023-10-09T13:52:58.066007Z",
          "iopub.status.idle": "2023-10-09T13:52:58.093982Z",
          "shell.execute_reply": "2023-10-09T13:52:58.092848Z",
          "shell.execute_reply.started": "2023-10-09T13:52:58.066575Z"
        },
        "trusted": true,
        "colab": {
          "base_uri": "https://localhost:8080/"
        },
        "id": "93x_HrpdM6Go",
        "outputId": "8b904060-ab02-4d82-be69-2c3b185b64ca"
      },
      "outputs": [
        {
          "output_type": "execute_result",
          "data": {
            "text/plain": [
              "title    0\n",
              "text     0\n",
              "label    0\n",
              "dtype: int64"
            ]
          },
          "metadata": {},
          "execution_count": 8
        }
      ],
      "source": [
        "## Check after replacing NA with empty\n",
        "data.isnull().sum()"
      ]
    },
    {
      "cell_type": "markdown",
      "metadata": {
        "id": "0jbmb0zhM6Go"
      },
      "source": [
        "* We will replace the missing values with blanks, then merge the two columns (titles and text) so that we have as much data to work with as possible"
      ]
    },
    {
      "cell_type": "markdown",
      "metadata": {
        "id": "FRX3lR6kM6Go"
      },
      "source": [
        "# Step 2: Preprocessing"
      ]
    },
    {
      "cell_type": "markdown",
      "metadata": {
        "id": "5aUBl082M6Go"
      },
      "source": [
        "## Combining both text and title"
      ]
    },
    {
      "cell_type": "code",
      "execution_count": 9,
      "metadata": {
        "execution": {
          "iopub.execute_input": "2023-10-09T13:52:58.098235Z",
          "iopub.status.busy": "2023-10-09T13:52:58.097631Z",
          "iopub.status.idle": "2023-10-09T13:52:58.51539Z",
          "shell.execute_reply": "2023-10-09T13:52:58.514276Z",
          "shell.execute_reply.started": "2023-10-09T13:52:58.098201Z"
        },
        "trusted": true,
        "colab": {
          "base_uri": "https://localhost:8080/"
        },
        "id": "deRVJTc2M6Go",
        "outputId": "71464235-a2c3-4658-8ae7-556a50114ebb"
      },
      "outputs": [
        {
          "output_type": "stream",
          "name": "stdout",
          "text": [
            "                                               title  \\\n",
            "0  LAW ENFORCEMENT ON HIGH ALERT Following Threat...   \n",
            "1                                                      \n",
            "2  UNBELIEVABLE! OBAMA’S ATTORNEY GENERAL SAYS MO...   \n",
            "3  Bobby Jindal, raised Hindu, uses story of Chri...   \n",
            "4  SATAN 2: Russia unvelis an image of its terrif...   \n",
            "\n",
            "                                                text  label  \\\n",
            "0  No comment is expected from Barack Obama Membe...      1   \n",
            "1     Did they post their votes for Hillary already?      1   \n",
            "2   Now, most of the demonstrators gathered last ...      1   \n",
            "3  A dozen politically active pastors came here f...      0   \n",
            "4  The RS-28 Sarmat missile, dubbed Satan 2, will...      1   \n",
            "\n",
            "                                           Full_text  \n",
            "0  LAW ENFORCEMENT ON HIGH ALERT Following Threat...  \n",
            "1     Did they post their votes for Hillary already?  \n",
            "2  UNBELIEVABLE! OBAMA’S ATTORNEY GENERAL SAYS MO...  \n",
            "3  Bobby Jindal, raised Hindu, uses story of Chri...  \n",
            "4  SATAN 2: Russia unvelis an image of its terrif...  \n"
          ]
        }
      ],
      "source": [
        "data['Full_text'] = data['title'] + data['text']\n",
        "\n",
        "## Check\n",
        "print(data.head())"
      ]
    },
    {
      "cell_type": "markdown",
      "metadata": {
        "id": "IC1EwWKSM6Go"
      },
      "source": [
        "## Look at some examples of fake and real news"
      ]
    },
    {
      "cell_type": "markdown",
      "metadata": {
        "id": "Z6w8rhAPM6Go"
      },
      "source": [
        "### Fake news examples"
      ]
    },
    {
      "cell_type": "code",
      "execution_count": 10,
      "metadata": {
        "execution": {
          "iopub.execute_input": "2023-10-09T13:52:58.51718Z",
          "iopub.status.busy": "2023-10-09T13:52:58.516744Z",
          "iopub.status.idle": "2023-10-09T13:52:58.538578Z",
          "shell.execute_reply": "2023-10-09T13:52:58.537398Z",
          "shell.execute_reply.started": "2023-10-09T13:52:58.51714Z"
        },
        "trusted": true,
        "colab": {
          "base_uri": "https://localhost:8080/"
        },
        "id": "-4-IqBK7M6Go",
        "outputId": "a65c0870-e67d-4739-bb13-7a864c90723b"
      },
      "outputs": [
        {
          "output_type": "execute_result",
          "data": {
            "text/plain": [
              "0        LAW ENFORCEMENT ON HIGH ALERT Following Threat...\n",
              "1           Did they post their votes for Hillary already?\n",
              "2        UNBELIEVABLE! OBAMA’S ATTORNEY GENERAL SAYS MO...\n",
              "4        SATAN 2: Russia unvelis an image of its terrif...\n",
              "5        About Time! Christian Group Sues Amazon and SP...\n",
              "                               ...                        \n",
              "72125    WOW! JILL STEIN’S ‘FIRESIDE CHAT’ Exposes Her ...\n",
              "72127    WIKILEAKS EMAIL SHOWS CLINTON FOUNDATION FUNDS...\n",
              "72128    JUDGE JEANINE SOUNDS FREE SPEECH ALARM: “They ...\n",
              "72130     WATCH: Giuliani Demands That Democrats Apolog...\n",
              "72133    Goldman Sachs Endorses Hillary Clinton For Pre...\n",
              "Name: Full_text, Length: 37106, dtype: object"
            ]
          },
          "metadata": {},
          "execution_count": 10
        }
      ],
      "source": [
        "data[data.label == 1].Full_text"
      ]
    },
    {
      "cell_type": "code",
      "execution_count": 11,
      "metadata": {
        "execution": {
          "iopub.execute_input": "2023-10-09T13:52:58.540144Z",
          "iopub.status.busy": "2023-10-09T13:52:58.539836Z",
          "iopub.status.idle": "2023-10-09T13:52:58.55849Z",
          "shell.execute_reply": "2023-10-09T13:52:58.557749Z",
          "shell.execute_reply.started": "2023-10-09T13:52:58.540118Z"
        },
        "trusted": true,
        "colab": {
          "base_uri": "https://localhost:8080/"
        },
        "id": "hbJAD7tKM6Gp",
        "outputId": "c1a601cf-8d4b-47de-9480-f881841a6cbf"
      },
      "outputs": [
        {
          "output_type": "stream",
          "name": "stdout",
          "text": [
            "LAW ENFORCEMENT ON HIGH ALERT Following Threats Against Cops And Whites On 9-11By #BlackLivesMatter And #FYF911 Terrorists [VIDEO]No comment is expected from Barack Obama Members of the #FYF911 or #FukYoFlag and #BlackLivesMatter movements called for the lynching and hanging of white people and cops. They encouraged others on a radio show Tuesday night to  turn the tide  and kill white people and cops to send a message about the killing of black people in America.One of the F***YoFlag organizers is called  Sunshine.  She has a radio blog show hosted from Texas called,  Sunshine s F***ing Opinion Radio Show. A snapshot of her #FYF911 @LOLatWhiteFear Twitter page at 9:53 p.m. shows that she was urging supporters to  Call now!! #fyf911 tonight we continue to dismantle the illusion of white Below is a SNAPSHOT Twitter Radio Call Invite   #FYF911The radio show aired at 10:00 p.m. eastern standard time.During the show, callers clearly call for  lynching  and  killing  of white people.A 2:39 \n"
          ]
        }
      ],
      "source": [
        "## First thousand characters\n",
        "print(data[data.label == 1].Full_text[0][0:1000])"
      ]
    },
    {
      "cell_type": "code",
      "execution_count": 12,
      "metadata": {
        "execution": {
          "iopub.execute_input": "2023-10-09T13:52:58.560068Z",
          "iopub.status.busy": "2023-10-09T13:52:58.559569Z",
          "iopub.status.idle": "2023-10-09T13:52:58.577968Z",
          "shell.execute_reply": "2023-10-09T13:52:58.576844Z",
          "shell.execute_reply.started": "2023-10-09T13:52:58.56004Z"
        },
        "trusted": true,
        "colab": {
          "base_uri": "https://localhost:8080/"
        },
        "id": "s-t3XuoMM6Gp",
        "outputId": "7dbc95e2-f1bf-4750-f8d4-130fd8e27029"
      },
      "outputs": [
        {
          "output_type": "stream",
          "name": "stdout",
          "text": [
            " Did they post their votes for Hillary already?\n"
          ]
        }
      ],
      "source": [
        "## First thousand characters\n",
        "print(data[data.label == 1].Full_text[1][0:1000])"
      ]
    },
    {
      "cell_type": "code",
      "execution_count": 13,
      "metadata": {
        "execution": {
          "iopub.execute_input": "2023-10-09T13:52:58.580213Z",
          "iopub.status.busy": "2023-10-09T13:52:58.579548Z",
          "iopub.status.idle": "2023-10-09T13:52:58.597517Z",
          "shell.execute_reply": "2023-10-09T13:52:58.59654Z",
          "shell.execute_reply.started": "2023-10-09T13:52:58.580173Z"
        },
        "trusted": true,
        "colab": {
          "base_uri": "https://localhost:8080/"
        },
        "id": "bklbQBMFM6Gp",
        "outputId": "ad8c36a2-c3d2-4042-c838-b284c92c042a"
      },
      "outputs": [
        {
          "output_type": "stream",
          "name": "stdout",
          "text": [
            "UNBELIEVABLE! OBAMA’S ATTORNEY GENERAL SAYS MOST CHARLOTTE RIOTERS WERE “PEACEFUL” PROTESTERS…In Her Home State Of North Carolina [VIDEO] Now, most of the demonstrators gathered last night were exercising their constitutional and protected right to peaceful protest in order to raise issues and create change.    Loretta Lynch aka Eric Holder in a skirt\n"
          ]
        }
      ],
      "source": [
        "## First thousand characters\n",
        "print(data[data.label == 1].Full_text[2][0:1000])"
      ]
    },
    {
      "cell_type": "markdown",
      "metadata": {
        "id": "R3wRKcmkM6Gp"
      },
      "source": [
        "### Real news examples"
      ]
    },
    {
      "cell_type": "code",
      "execution_count": 14,
      "metadata": {
        "execution": {
          "iopub.execute_input": "2023-10-09T13:52:58.598968Z",
          "iopub.status.busy": "2023-10-09T13:52:58.598664Z",
          "iopub.status.idle": "2023-10-09T13:52:58.617747Z",
          "shell.execute_reply": "2023-10-09T13:52:58.616448Z",
          "shell.execute_reply.started": "2023-10-09T13:52:58.598943Z"
        },
        "trusted": true,
        "colab": {
          "base_uri": "https://localhost:8080/"
        },
        "id": "FnzmLBYAM6Gp",
        "outputId": "611bc1db-8d0b-4e68-e9fb-bbd9ce7e31f5"
      },
      "outputs": [
        {
          "output_type": "stream",
          "name": "stdout",
          "text": [
            "3        Bobby Jindal, raised Hindu, uses story of Chri...\n",
            "11       May Brexit offer would hurt, cost EU citizens ...\n",
            "12       Schumer calls on Trump to appoint official to ...\n",
            "14       No Change Expected for ESPN Political Agenda D...\n",
            "15       Billionaire Odebrecht in Brazil scandal releas...\n",
            "                               ...                        \n",
            "72124    An Unlikely Contender Rises in France as the A...\n",
            "72126    Determined to kill: Can tough gun laws end mas...\n",
            "72129    Russians steal research on Trump in hack of U....\n",
            "72131    Migrants Refuse To Leave Train At Refugee Camp...\n",
            "72132    Trump tussle gives unpopular Mexican leader mu...\n",
            "Name: Full_text, Length: 35028, dtype: object\n"
          ]
        }
      ],
      "source": [
        "## First thousand characters\n",
        "print(data[data.label == 0].Full_text)"
      ]
    },
    {
      "cell_type": "code",
      "execution_count": 15,
      "metadata": {
        "execution": {
          "iopub.execute_input": "2023-10-09T13:52:58.620349Z",
          "iopub.status.busy": "2023-10-09T13:52:58.619445Z",
          "iopub.status.idle": "2023-10-09T13:52:58.636737Z",
          "shell.execute_reply": "2023-10-09T13:52:58.635961Z",
          "shell.execute_reply.started": "2023-10-09T13:52:58.620307Z"
        },
        "trusted": true,
        "colab": {
          "base_uri": "https://localhost:8080/"
        },
        "id": "PVgkY6zMM6Gp",
        "outputId": "6a26a7c5-5af3-47a0-b0c3-37bfe65216e6"
      },
      "outputs": [
        {
          "output_type": "stream",
          "name": "stdout",
          "text": [
            "Bobby Jindal, raised Hindu, uses story of Christian conversion to woo evangelicals for potential 2016 bidA dozen politically active pastors came here for a private dinner Friday night to hear a conversion story unique in the context of presidential politics: how Louisiana Gov. Bobby Jindal traveled from Hinduism to Protestant Christianity and, ultimately, became what he calls an “evangelical Catholic.”\n",
            "\n",
            "Over two hours, Jindal, 42, recalled talking with a girl in high school who wanted to “save my soul,” reading the Bible in a closet so his parents would not see him and feeling a stir while watching a movie during his senior year that depicted Jesus on the cross.\n",
            "\n",
            "“I was struck, and struck hard,” Jindal told the pastors. “This was the Son of God, and He had died for our sins.”\n",
            "\n",
            "Jindal’s session with the Christian clergy, who lead congregations in the early presidential battleground states of Iowa and South Carolina, was part of a behind-the-scenes effort by the Louisiana governor to fin\n"
          ]
        }
      ],
      "source": [
        "print(data[data.label == 0].Full_text[3][0:1000])"
      ]
    },
    {
      "cell_type": "code",
      "execution_count": 16,
      "metadata": {
        "execution": {
          "iopub.execute_input": "2023-10-09T13:52:58.638389Z",
          "iopub.status.busy": "2023-10-09T13:52:58.637887Z",
          "iopub.status.idle": "2023-10-09T13:52:58.656153Z",
          "shell.execute_reply": "2023-10-09T13:52:58.655144Z",
          "shell.execute_reply.started": "2023-10-09T13:52:58.638362Z"
        },
        "trusted": true,
        "colab": {
          "base_uri": "https://localhost:8080/"
        },
        "id": "H33a1IuUM6Gp",
        "outputId": "03f5d8e7-2014-47e9-a92a-18dd10b2e8f5"
      },
      "outputs": [
        {
          "output_type": "stream",
          "name": "stdout",
          "text": [
            "May Brexit offer would hurt, cost EU citizens - EU parliamentBRUSSELS (Reuters) - British Prime Minister Theresa May s offer of  settled status  for EU residents is flawed and will leave them with fewer rights after Brexit, the European Parliament s Brexit coordinator said on Tuesday. A family of five could face a bill of 360 pounds to acquire the new status, Guy Verhofstadt told May s Brexit Secretary David Davis in a letter seen by Reuters    a very significant amount for a family on low income . Listing three other concerns for the EU legislature, which must approve any treaty on the March 2019 exit, Verhofstadt told Davis:  Under your proposals, EU citizens will definitely notice a deterioration of their status as a result of Brexit. And the Parliament s aim all along has been that EU citizens, and UK citizens in the EU-27, should notice no difference.  Verhofstadt, a former Belgian prime minister, wrote in response to Davis, who had written to him after Parliament complained last \n"
          ]
        }
      ],
      "source": [
        "print(data[data.label == 0].Full_text[11][0:1000])"
      ]
    },
    {
      "cell_type": "markdown",
      "metadata": {
        "id": "EYHf7BqJM6Gq"
      },
      "source": [
        "## CLEANING: Lowercasing + remove stop words + remove punctuation"
      ]
    },
    {
      "cell_type": "code",
      "execution_count": 17,
      "metadata": {
        "execution": {
          "iopub.execute_input": "2023-10-09T13:52:58.657617Z",
          "iopub.status.busy": "2023-10-09T13:52:58.657322Z",
          "iopub.status.idle": "2023-10-09T13:52:58.819033Z",
          "shell.execute_reply": "2023-10-09T13:52:58.81786Z",
          "shell.execute_reply.started": "2023-10-09T13:52:58.657592Z"
        },
        "trusted": true,
        "colab": {
          "base_uri": "https://localhost:8080/"
        },
        "id": "RhQMB2XxM6Gq",
        "outputId": "fc73ae9f-6bc5-49e3-ada2-a5bbf1f0b410"
      },
      "outputs": [
        {
          "output_type": "stream",
          "name": "stderr",
          "text": [
            "[nltk_data] Downloading package stopwords to /root/nltk_data...\n",
            "[nltk_data]   Unzipping corpora/stopwords.zip.\n"
          ]
        }
      ],
      "source": [
        "from spacy.lang.en import English\n",
        "from nltk.corpus import stopwords\n",
        "import nltk\n",
        "import time\n",
        "\n",
        "## download the dictionary for stopwords\n",
        "nltk.download('stopwords')\n",
        "\n",
        "## get the set of stopwords\n",
        "stop_words_set = set(stopwords.words('english'))\n",
        "\n",
        "## Load English tokenizer from spacy\n",
        "nlp = English()\n",
        "tokenizer = nlp.tokenizer ## make instance\n",
        "\n"
      ]
    },
    {
      "cell_type": "code",
      "execution_count": 18,
      "metadata": {
        "execution": {
          "iopub.execute_input": "2023-10-09T13:52:58.820577Z",
          "iopub.status.busy": "2023-10-09T13:52:58.820219Z",
          "iopub.status.idle": "2023-10-09T13:55:35.90232Z",
          "shell.execute_reply": "2023-10-09T13:55:35.901064Z",
          "shell.execute_reply.started": "2023-10-09T13:52:58.820551Z"
        },
        "trusted": true,
        "colab": {
          "base_uri": "https://localhost:8080/"
        },
        "id": "fzLBxzcbM6Gq",
        "outputId": "5c30bd8c-ff9d-4c23-8af2-b2914c8c572d"
      },
      "outputs": [
        {
          "output_type": "stream",
          "name": "stdout",
          "text": [
            "Time to clean  189.0708351135254\n"
          ]
        }
      ],
      "source": [
        "## Create function to clean text -- lowercase, remove non alphanumeric, remove stop words\n",
        "def optimized_preprocess(texts): ## Takes in a list of texts, i.e. the entire corpus\n",
        "    result = []\n",
        "\n",
        "    # Tokenize using spacy's tokenizer\n",
        "    for text in texts:\n",
        "        tokens = [token.text.lower() for token in tokenizer(text) if token.text.isalpha() and token.text.lower() not in stop_words_set]\n",
        "        result.append(\" \".join(tokens))\n",
        "\n",
        "    return result\n",
        "\n",
        "# Process data\n",
        "s = time.time()\n",
        "preprocessed_texts = optimized_preprocess(data.Full_text)\n",
        "print('Time to clean ', time.time() - s)"
      ]
    },
    {
      "cell_type": "code",
      "execution_count": 19,
      "metadata": {
        "execution": {
          "iopub.execute_input": "2023-10-09T13:55:35.903952Z",
          "iopub.status.busy": "2023-10-09T13:55:35.903607Z",
          "iopub.status.idle": "2023-10-09T13:55:35.921956Z",
          "shell.execute_reply": "2023-10-09T13:55:35.920868Z",
          "shell.execute_reply.started": "2023-10-09T13:55:35.903925Z"
        },
        "trusted": true,
        "id": "aApcz5CuM6Gq"
      },
      "outputs": [],
      "source": [
        "## Save a new column in the dataset\n",
        "data['Full_text_cleaned'] = preprocessed_texts"
      ]
    },
    {
      "cell_type": "code",
      "execution_count": 20,
      "metadata": {
        "execution": {
          "iopub.execute_input": "2023-10-09T13:55:35.923917Z",
          "iopub.status.busy": "2023-10-09T13:55:35.923162Z",
          "iopub.status.idle": "2023-10-09T13:55:35.940734Z",
          "shell.execute_reply": "2023-10-09T13:55:35.939579Z",
          "shell.execute_reply.started": "2023-10-09T13:55:35.923887Z"
        },
        "trusted": true,
        "colab": {
          "base_uri": "https://localhost:8080/"
        },
        "id": "WeZlVK-8M6Gq",
        "outputId": "ff99af5b-2fe2-471e-9fd7-7d90df235439"
      },
      "outputs": [
        {
          "output_type": "stream",
          "name": "stdout",
          "text": [
            "0    law enforcement high alert following threats c...\n",
            "1                           post votes hillary already\n",
            "2    unbelievable obama attorney general says charl...\n",
            "3    bobby jindal raised hindu uses story christian...\n",
            "4    satan russia unvelis image terrifying new supe...\n",
            "Name: Full_text_cleaned, dtype: object\n",
            "gop senator smacked punchable alt right nazi internetthe punchable alt right nazi internet got thorough beatdown ben sasse r twitter epic tweetstorm richard spencer alt right leader become human punching bag got racism smacked republican senator thursday white nationalist tweeted goober conservatives blame russia racial divisions united states spencer responding tweet sasse sent wednesday ben sasse shared article regarding james lankford r explained russian internet trolls helped fuel divisions controversy donald trump ignited nfl athletes choose kneel rather stand national anthem protest racial inequality police brutality one loves american vs american fighting putin intel agencies stoke sides every ben sasse september responded writing minds goober conservatives russians blame racial divisions minds goober conservatives russians blame racial divisions richard spencer september tore spencer calling clown one brown shirt pajama boy nazis oh let goobers nongoobers agree racists like bla\n"
          ]
        }
      ],
      "source": [
        "## Check cleaned text\n",
        "print(data.Full_text_cleaned.head())\n",
        "\n",
        "## Read some in full\n",
        "print(data.Full_text_cleaned[10][0:1000])"
      ]
    },
    {
      "cell_type": "markdown",
      "metadata": {
        "id": "HzApLxhMM6Gq"
      },
      "source": [
        "## Explore some differences between real and fake texts\n",
        "\n",
        "### Comparing choice of vocabulary\n",
        "\n",
        "Let us count the word frequency used in real and fake news, and compare the top choices of vocabulary across the two, to see if anything interesting emerges."
      ]
    },
    {
      "cell_type": "code",
      "execution_count": 21,
      "metadata": {
        "execution": {
          "iopub.execute_input": "2023-10-09T13:55:35.943198Z",
          "iopub.status.busy": "2023-10-09T13:55:35.942465Z",
          "iopub.status.idle": "2023-10-09T13:55:35.977726Z",
          "shell.execute_reply": "2023-10-09T13:55:35.97667Z",
          "shell.execute_reply.started": "2023-10-09T13:55:35.943155Z"
        },
        "trusted": true,
        "id": "MU6Q8LV9M6Gq"
      },
      "outputs": [],
      "source": [
        "from collections import Counter ## for counting words\n",
        "\n",
        "## Get real and fake subsets\n",
        "fake_text = data[data.label == 1][\"Full_text_cleaned\"]\n",
        "real_text = data[data.label == 0][\"Full_text_cleaned\"]"
      ]
    },
    {
      "cell_type": "code",
      "execution_count": 22,
      "metadata": {
        "execution": {
          "iopub.execute_input": "2023-10-09T13:55:35.98046Z",
          "iopub.status.busy": "2023-10-09T13:55:35.979738Z",
          "iopub.status.idle": "2023-10-09T13:55:43.328732Z",
          "shell.execute_reply": "2023-10-09T13:55:43.327455Z",
          "shell.execute_reply.started": "2023-10-09T13:55:35.980418Z"
        },
        "trusted": true,
        "id": "rsrITBAxM6Gr"
      },
      "outputs": [],
      "source": [
        "## Entire vocabulary\n",
        "vocab_set = set((\" \".join(data.Full_text_cleaned)).split())\n",
        "non_unique_set = (\" \".join(data.Full_text_cleaned)).split()"
      ]
    },
    {
      "cell_type": "code",
      "execution_count": 23,
      "metadata": {
        "execution": {
          "iopub.execute_input": "2023-10-09T13:55:43.330844Z",
          "iopub.status.busy": "2023-10-09T13:55:43.330125Z",
          "iopub.status.idle": "2023-10-09T13:55:43.344866Z",
          "shell.execute_reply": "2023-10-09T13:55:43.343685Z",
          "shell.execute_reply.started": "2023-10-09T13:55:43.330801Z"
        },
        "trusted": true,
        "colab": {
          "base_uri": "https://localhost:8080/"
        },
        "id": "bTzLM49NM6Gr",
        "outputId": "57c23e8e-4fff-43f0-e853-1d5c661a2553"
      },
      "outputs": [
        {
          "output_type": "stream",
          "name": "stdout",
          "text": [
            "Vocab size :  238524\n",
            "Entire word count :  22156082\n",
            "Ratio of word count to vocab size :  92.88827120122085\n"
          ]
        }
      ],
      "source": [
        "## Get sizes of vocab, entire corpus, ratio\n",
        "print('Vocab size : ', len(vocab_set))\n",
        "print('Entire word count : ', len(non_unique_set))\n",
        "print('Ratio of word count to vocab size : ', len(non_unique_set)/len(vocab_set) )"
      ]
    },
    {
      "cell_type": "markdown",
      "metadata": {
        "id": "-F1VYv7rM6Gr"
      },
      "source": [
        "On average, each word is used about 92 times.\n",
        "* Vocab size ~ 200 k\n",
        "* Entire corpus word count ~ 22 million"
      ]
    },
    {
      "cell_type": "code",
      "execution_count": 24,
      "metadata": {
        "execution": {
          "iopub.execute_input": "2023-10-09T13:55:43.347Z",
          "iopub.status.busy": "2023-10-09T13:55:43.346117Z",
          "iopub.status.idle": "2023-10-09T13:55:43.361805Z",
          "shell.execute_reply": "2023-10-09T13:55:43.36047Z",
          "shell.execute_reply.started": "2023-10-09T13:55:43.34697Z"
        },
        "trusted": true,
        "colab": {
          "base_uri": "https://localhost:8080/"
        },
        "id": "d4d9Nii7M6Gr",
        "outputId": "7307d900-8c2a-497d-f546-d1dbe79839ea"
      },
      "outputs": [
        {
          "output_type": "stream",
          "name": "stdout",
          "text": [
            "0    law enforcement high alert following threats c...\n",
            "1                           post votes hillary already\n",
            "2    unbelievable obama attorney general says charl...\n",
            "4    satan russia unvelis image terrifying new supe...\n",
            "5    time christian group sues amazon splc designat...\n",
            "Name: Full_text_cleaned, dtype: object\n",
            "3     bobby jindal raised hindu uses story christian...\n",
            "11    may brexit offer would hurt cost eu citizens e...\n",
            "12    schumer calls trump appoint official oversee p...\n",
            "14    change expected espn political agenda despite ...\n",
            "15    billionaire odebrecht brazil scandal released ...\n",
            "Name: Full_text_cleaned, dtype: object\n"
          ]
        }
      ],
      "source": [
        "## Check\n",
        "print(fake_text.head())\n",
        "print(real_text.head())"
      ]
    },
    {
      "cell_type": "code",
      "execution_count": 25,
      "metadata": {
        "execution": {
          "iopub.execute_input": "2023-10-09T13:55:43.363975Z",
          "iopub.status.busy": "2023-10-09T13:55:43.363347Z",
          "iopub.status.idle": "2023-10-09T13:55:50.374351Z",
          "shell.execute_reply": "2023-10-09T13:55:50.373144Z",
          "shell.execute_reply.started": "2023-10-09T13:55:43.363928Z"
        },
        "trusted": true,
        "colab": {
          "base_uri": "https://localhost:8080/"
        },
        "id": "HDWO0OizM6Gr",
        "outputId": "f7c3bbee-9843-40d4-e40e-844afda43355"
      },
      "outputs": [
        {
          "output_type": "stream",
          "name": "stdout",
          "text": [
            "78106917\n",
            "86186099\n"
          ]
        }
      ],
      "source": [
        "## COUNT THE WORDS\n",
        "\n",
        "## First, turn a list of lists into just one list -- i.e. join all documents together into\n",
        "## one giant document/ string\n",
        "fake_text_giant_string = \" \".join(fake_text)\n",
        "print(len(fake_text_giant_string))\n",
        "real_text_giant_string = \" \".join(real_text)\n",
        "print(len(real_text_giant_string))\n",
        "\n",
        "\n",
        "## Now, update to the Counter object to begin counting\n",
        "fake_words_counter = Counter(fake_text_giant_string.split())\n",
        "real_words_counter = Counter(real_text_giant_string.split())\n"
      ]
    },
    {
      "cell_type": "markdown",
      "metadata": {
        "id": "XWCgMnPeM6Gr"
      },
      "source": [
        "## Counting the words used in real and fake news"
      ]
    },
    {
      "cell_type": "code",
      "execution_count": 26,
      "metadata": {
        "execution": {
          "iopub.execute_input": "2023-10-09T13:55:50.376047Z",
          "iopub.status.busy": "2023-10-09T13:55:50.375693Z",
          "iopub.status.idle": "2023-10-09T13:55:50.444Z",
          "shell.execute_reply": "2023-10-09T13:55:50.442871Z",
          "shell.execute_reply.started": "2023-10-09T13:55:50.376021Z"
        },
        "trusted": true,
        "colab": {
          "base_uri": "https://localhost:8080/"
        },
        "id": "1i7tdAtCM6Gr",
        "outputId": "626d1074-d6e2-4768-ac4d-fc3bde05c874"
      },
      "outputs": [
        {
          "output_type": "stream",
          "name": "stdout",
          "text": [
            "<class 'collections.Counter'>\n",
            "[('trump', 116179), ('said', 49898), ('people', 49137), ('clinton', 47358), ('one', 46387), ('would', 44259), ('president', 39690), ('us', 35508), ('hillary', 34678), ('like', 32200)]\n",
            "[('said', 184657), ('trump', 115351), ('would', 64111), ('president', 51695), ('new', 49311), ('one', 43012), ('people', 41983), ('state', 39740), ('also', 36630), ('states', 31833)]\n"
          ]
        }
      ],
      "source": [
        "## See results\n",
        "print(type(fake_words_counter))\n",
        "print(fake_words_counter.most_common(10)) ## Most common words for fake news\n",
        "print(real_words_counter.most_common(10)) ## Most common words for real news\n"
      ]
    },
    {
      "cell_type": "code",
      "execution_count": 27,
      "metadata": {
        "execution": {
          "iopub.execute_input": "2023-10-09T13:55:50.791704Z",
          "iopub.status.busy": "2023-10-09T13:55:50.791058Z",
          "iopub.status.idle": "2023-10-09T13:55:51.707772Z",
          "shell.execute_reply": "2023-10-09T13:55:51.706616Z",
          "shell.execute_reply.started": "2023-10-09T13:55:50.791672Z"
        },
        "trusted": true,
        "colab": {
          "base_uri": "https://localhost:8080/",
          "height": 487
        },
        "id": "1G3Skrg8M6G0",
        "outputId": "a6abbbfc-1f69-4411-840b-9928f2e7396b"
      },
      "outputs": [
        {
          "output_type": "display_data",
          "data": {
            "text/plain": [
              "<Figure size 640x480 with 2 Axes>"
            ],
            "image/png": "[encoded data removed]"
          },
          "metadata": {}
        }
      ],
      "source": [
        "## Visualise the top words\n",
        "\n",
        "fake_top_10 = fake_words_counter.most_common(10)\n",
        "x,y = zip(*fake_top_10)\n",
        "\n",
        "true_top_10 = real_words_counter.most_common(10)\n",
        "x2,y2 = zip(*true_top_10)\n",
        "\n",
        "## Plot\n",
        "# Plotting fake data\n",
        "plt.subplot(1, 2, 1)  # (nrows, ncols, index)\n",
        "plt.bar(x, y, color='red')\n",
        "plt.title('Top 10 words in Fake Texts')\n",
        "plt.xticks(rotation=70)\n",
        "plt.ylabel('Counts')\n",
        "\n",
        "# Plotting real data\n",
        "plt.subplot(1, 2, 2)\n",
        "plt.bar(x2, y2, color='blue')\n",
        "plt.title('Top 10 words in Real Texts')\n",
        "plt.xticks(rotation=70)\n",
        "plt.ylabel('Counts')\n",
        "\n",
        "plt.tight_layout()\n",
        "plt.show()"
      ]
    },
    {
      "cell_type": "markdown",
      "metadata": {
        "execution": {
          "iopub.status.busy": "2023-10-03T09:58:55.867638Z",
          "iopub.status.idle": "2023-10-03T09:58:55.868377Z",
          "shell.execute_reply": "2023-10-03T09:58:55.868138Z",
          "shell.execute_reply.started": "2023-10-03T09:58:55.868114Z"
        },
        "id": "4ACJtDmGM6G1"
      },
      "source": [
        "### Word clouds"
      ]
    },
    {
      "cell_type": "code",
      "execution_count": 28,
      "metadata": {
        "execution": {
          "iopub.execute_input": "2023-10-09T13:55:51.709685Z",
          "iopub.status.busy": "2023-10-09T13:55:51.709377Z",
          "iopub.status.idle": "2023-10-09T13:55:52.409611Z",
          "shell.execute_reply": "2023-10-09T13:55:52.408875Z",
          "shell.execute_reply.started": "2023-10-09T13:55:51.709658Z"
        },
        "trusted": true,
        "colab": {
          "base_uri": "https://localhost:8080/",
          "height": 331
        },
        "id": "lVs3kHdhM6G1",
        "outputId": "476a25ad-2478-43ea-e6a3-23c31da89d8d"
      },
      "outputs": [
        {
          "output_type": "display_data",
          "data": {
            "text/plain": [
              "<Figure size 640x480 with 1 Axes>"
            ],
            "image/png": "[encoded data removed]"
          },
          "metadata": {}
        }
      ],
      "source": [
        "from wordcloud import WordCloud\n",
        "\n",
        "fake_WC = WordCloud(background_color = 'white').generate_from_frequencies(fake_words_counter)\n",
        "\n",
        "plt.imshow(fake_WC, interpolation = 'bilinear')\n",
        "plt.title('Word Cloud for Fake Texts')\n",
        "plt.show()"
      ]
    },
    {
      "cell_type": "code",
      "execution_count": 29,
      "metadata": {
        "execution": {
          "iopub.execute_input": "2023-10-09T13:55:52.411308Z",
          "iopub.status.busy": "2023-10-09T13:55:52.411004Z",
          "iopub.status.idle": "2023-10-09T13:55:53.140998Z",
          "shell.execute_reply": "2023-10-09T13:55:53.139866Z",
          "shell.execute_reply.started": "2023-10-09T13:55:52.411283Z"
        },
        "trusted": true,
        "colab": {
          "base_uri": "https://localhost:8080/",
          "height": 331
        },
        "id": "N9QTvT1yM6G1",
        "outputId": "295ba8ae-f55e-461c-acb5-4ee1fb4a2c32"
      },
      "outputs": [
        {
          "output_type": "display_data",
          "data": {
            "text/plain": [
              "<Figure size 640x480 with 1 Axes>"
            ],
            "image/png": "[encoded data removed]"
          },
          "metadata": {}
        }
      ],
      "source": [
        "real_WC = WordCloud(background_color = 'white').generate_from_frequencies(real_words_counter)\n",
        "\n",
        "plt.imshow(real_WC, interpolation = 'bilinear')\n",
        "plt.title('Word Cloud for Real Texts')\n",
        "plt.show()"
      ]
    },
    {
      "cell_type": "markdown",
      "metadata": {
        "id": "HgJd6fNdM6G1"
      },
      "source": [
        "## Length of documents"
      ]
    },
    {
      "cell_type": "code",
      "execution_count": 30,
      "metadata": {
        "execution": {
          "iopub.execute_input": "2023-10-09T13:55:53.143117Z",
          "iopub.status.busy": "2023-10-09T13:55:53.142316Z",
          "iopub.status.idle": "2023-10-09T13:55:55.317099Z",
          "shell.execute_reply": "2023-10-09T13:55:55.316057Z",
          "shell.execute_reply.started": "2023-10-09T13:55:53.143087Z"
        },
        "trusted": true,
        "colab": {
          "base_uri": "https://localhost:8080/"
        },
        "id": "8Kml1YfMM6G1",
        "outputId": "727462e2-ce68-4dc0-bc37-2d0a8f27775b"
      },
      "outputs": [
        {
          "output_type": "stream",
          "name": "stdout",
          "text": [
            "0        446\n",
            "1          4\n",
            "2         35\n",
            "4        192\n",
            "5        151\n",
            "        ... \n",
            "72125      9\n",
            "72127    134\n",
            "72128    456\n",
            "72130    344\n",
            "72133    241\n",
            "Name: Full_text_cleaned, Length: 37106, dtype: int64\n",
            "3         743\n",
            "11        231\n",
            "12        265\n",
            "14        297\n",
            "15        165\n",
            "         ... \n",
            "72124     643\n",
            "72126    1260\n",
            "72129     446\n",
            "72131     270\n",
            "72132     349\n",
            "Name: Full_text_cleaned, Length: 35028, dtype: int64\n"
          ]
        }
      ],
      "source": [
        "fake_lengths = fake_text.str.split().apply(len)\n",
        "print(fake_lengths)\n",
        "\n",
        "real_lengths = real_text.str.split().apply(len)\n",
        "print(real_lengths)\n"
      ]
    },
    {
      "cell_type": "markdown",
      "metadata": {
        "id": "Z21M2rFBM6G1"
      },
      "source": [
        "### Visualise differences in length -- are real text longer or shorter?"
      ]
    },
    {
      "cell_type": "code",
      "execution_count": 31,
      "metadata": {
        "execution": {
          "iopub.execute_input": "2023-10-09T13:55:55.319221Z",
          "iopub.status.busy": "2023-10-09T13:55:55.318226Z",
          "iopub.status.idle": "2023-10-09T13:55:55.937186Z",
          "shell.execute_reply": "2023-10-09T13:55:55.936116Z",
          "shell.execute_reply.started": "2023-10-09T13:55:55.31919Z"
        },
        "trusted": true,
        "colab": {
          "base_uri": "https://localhost:8080/",
          "height": 487
        },
        "id": "4T1IPRptM6G1",
        "outputId": "7a742bc5-639e-4256-a3ae-06547049ed5a"
      },
      "outputs": [
        {
          "output_type": "display_data",
          "data": {
            "text/plain": [
              "<Figure size 640x480 with 2 Axes>"
            ],
            "image/png": "[encoded data removed]"
          },
          "metadata": {}
        }
      ],
      "source": [
        "## Fake one\n",
        "plt.subplot(1,2,1)\n",
        "plt.hist(fake_lengths, bins = 50, color = 'skyblue')\n",
        "plt.title('Distribution of lengths for Fake Texts')\n",
        "\n",
        "## Real one\n",
        "plt.subplot(1,2,2)\n",
        "plt.hist(fake_lengths, bins = 50, color = 'salmon')\n",
        "plt.title('Distribution of lengths for Real Texts')\n",
        "\n",
        "##\n",
        "plt.tight_layout()\n",
        "plt.show()"
      ]
    },
    {
      "cell_type": "markdown",
      "metadata": {
        "id": "hEjyJaerM6G2"
      },
      "source": [
        "We can see that both are highly right skewed -- most documents have lengths less than 2500 and most are close to 0. It is hard to see any differences between both distributions, hence the document length may not be a useful indicator."
      ]
    },
    {
      "cell_type": "markdown",
      "metadata": {
        "id": "ecBRuTlDM6G2"
      },
      "source": [
        "# Feature engineering: Bags of Words model\n",
        "\n",
        "NLP models cannot take in raw text, as machine learning models only understand numbers and vectors. To feed our real and fake news data into a model, we must first convert the text into something vectorial, and one option is the **BOW** model.\n",
        "\n",
        "The **BoW** model treats text as an unordered set of words, where the sequence doesn't matter. We can already see how this is an obvious limitation, but this can be the first way forward.\n",
        "\n",
        "The first thing BoW does it to **create a vocabulary of all the words**. This will essentially become our predictors, i.e. each word is a predictor or a feature (e.g. such as how education, age, industry are predictors for wage prediction). In this case, each document is a sample, as will be represented by a vector whose length is equal to the size of the vocabulary. Each entry corresponds to the number of words in for that unique word predictor of the particular document -- i.e. the i,j-th entry corresponds to the frequency of the jth word for the ith document."
      ]
    },
    {
      "cell_type": "markdown",
      "metadata": {
        "id": "AkrGOa-EM6G2"
      },
      "source": [
        "## Transforming text to BoW -- Count Vectorizer"
      ]
    },
    {
      "cell_type": "code",
      "execution_count": 32,
      "metadata": {
        "execution": {
          "iopub.execute_input": "2023-10-09T13:55:55.93917Z",
          "iopub.status.busy": "2023-10-09T13:55:55.938716Z",
          "iopub.status.idle": "2023-10-09T13:55:55.944892Z",
          "shell.execute_reply": "2023-10-09T13:55:55.943821Z",
          "shell.execute_reply.started": "2023-10-09T13:55:55.939133Z"
        },
        "trusted": true,
        "id": "Hxpm0DC5M6G2"
      },
      "outputs": [],
      "source": [
        "from sklearn.feature_extraction.text import CountVectorizer\n",
        "\n",
        "## Instantiate vectorizer\n",
        "vectorizer = CountVectorizer()"
      ]
    },
    {
      "cell_type": "code",
      "execution_count": 33,
      "metadata": {
        "execution": {
          "iopub.execute_input": "2023-10-09T13:55:55.94639Z",
          "iopub.status.busy": "2023-10-09T13:55:55.946123Z",
          "iopub.status.idle": "2023-10-09T13:56:16.605552Z",
          "shell.execute_reply": "2023-10-09T13:56:16.604378Z",
          "shell.execute_reply.started": "2023-10-09T13:55:55.946367Z"
        },
        "trusted": true,
        "id": "iEv_7zCNM6G2"
      },
      "outputs": [],
      "source": [
        "## Save text\n",
        "preprocessed_text = data.Full_text_cleaned\n",
        "\n",
        "## Apply vectorizer to get the bag of words matrix\n",
        "X = vectorizer.fit_transform(preprocessed_text)"
      ]
    },
    {
      "cell_type": "code",
      "execution_count": 34,
      "metadata": {
        "execution": {
          "iopub.execute_input": "2023-10-09T13:56:16.607612Z",
          "iopub.status.busy": "2023-10-09T13:56:16.607221Z",
          "iopub.status.idle": "2023-10-09T13:56:16.613684Z",
          "shell.execute_reply": "2023-10-09T13:56:16.612521Z",
          "shell.execute_reply.started": "2023-10-09T13:56:16.607576Z"
        },
        "trusted": true,
        "colab": {
          "base_uri": "https://localhost:8080/"
        },
        "id": "BG6do5DNM6G2",
        "outputId": "fd606336-fd31-43e3-992d-fb9c3b4bfd5e"
      },
      "outputs": [
        {
          "output_type": "stream",
          "name": "stdout",
          "text": [
            "(72134, 238433)\n"
          ]
        }
      ],
      "source": [
        "## Shape\n",
        "print(X.shape)"
      ]
    },
    {
      "cell_type": "markdown",
      "metadata": {
        "id": "MntB4FiqM6G2"
      },
      "source": [
        "As expected, we have about 70k documents, but the vocab size is 200k. This number of columns is very big (imagine 200k predictors), and this may result in overfitting.\n",
        "\n",
        "We try to make number of features smaller via some arguments of countvectorizer"
      ]
    },
    {
      "cell_type": "code",
      "execution_count": 35,
      "metadata": {
        "execution": {
          "iopub.execute_input": "2023-10-09T13:56:16.61518Z",
          "iopub.status.busy": "2023-10-09T13:56:16.614921Z",
          "iopub.status.idle": "2023-10-09T13:56:38.194658Z",
          "shell.execute_reply": "2023-10-09T13:56:38.193289Z",
          "shell.execute_reply.started": "2023-10-09T13:56:16.615157Z"
        },
        "trusted": true,
        "id": "DqN4GlREM6G2"
      },
      "outputs": [],
      "source": [
        "## Re-instantiate with all the new parameters\n",
        "vectorizer = CountVectorizer(min_df = 100, ## require a word to be in at least 100 documents\n",
        "                            max_df = 0.90, ## is a word appears in 90% or more of documents, then ignore, since it may be too common\n",
        "                            stop_words = 'english', ## use stopwords again, although we had used it from spacy already\n",
        "                            max_features = 10000)\n",
        "\n",
        "\n",
        "## Now, reapply vectorizer\n",
        "X = vectorizer.fit_transform(preprocessed_text) ## use only 10000 most common words"
      ]
    },
    {
      "cell_type": "code",
      "execution_count": 36,
      "metadata": {
        "execution": {
          "iopub.execute_input": "2023-10-09T13:56:38.197152Z",
          "iopub.status.busy": "2023-10-09T13:56:38.196203Z",
          "iopub.status.idle": "2023-10-09T13:56:38.202752Z",
          "shell.execute_reply": "2023-10-09T13:56:38.201972Z",
          "shell.execute_reply.started": "2023-10-09T13:56:38.197119Z"
        },
        "trusted": true,
        "colab": {
          "base_uri": "https://localhost:8080/"
        },
        "id": "iHWE9oI4M6G3",
        "outputId": "42e64f13-2997-4361-f48a-4965c5eac81e"
      },
      "outputs": [
        {
          "output_type": "stream",
          "name": "stdout",
          "text": [
            "(72134, 10000)\n"
          ]
        }
      ],
      "source": [
        "## Check again\n",
        "print(X.shape) ## confirmed that we have 10000 predictors"
      ]
    },
    {
      "cell_type": "code",
      "execution_count": 37,
      "metadata": {
        "execution": {
          "iopub.execute_input": "2023-10-09T13:56:38.20475Z",
          "iopub.status.busy": "2023-10-09T13:56:38.204158Z",
          "iopub.status.idle": "2023-10-09T13:56:38.219653Z",
          "shell.execute_reply": "2023-10-09T13:56:38.218383Z",
          "shell.execute_reply.started": "2023-10-09T13:56:38.204723Z"
        },
        "trusted": true,
        "colab": {
          "base_uri": "https://localhost:8080/"
        },
        "id": "GeWSFpPIM6G3",
        "outputId": "ae0ace8d-c377-467d-f38e-8a6a3abd0c72"
      },
      "outputs": [
        {
          "output_type": "stream",
          "name": "stdout",
          "text": [
            "  (0, 72)\t1\n",
            "  (3, 21)\t1\n",
            "  (3, 74)\t1\n",
            "  (3, 77)\t1\n",
            "  (4, 67)\t1\n",
            "  (4, 68)\t1\n",
            "  (4, 17)\t1\n",
            "  (9, 54)\t2\n",
            "  (12, 54)\t1\n",
            "  (12, 16)\t1\n",
            "  (14, 54)\t1\n",
            "  (15, 68)\t2\n",
            "  (16, 17)\t1\n",
            "  (18, 68)\t1\n",
            "  (18, 17)\t1\n",
            "  (18, 65)\t5\n",
            "  (18, 66)\t1\n",
            "  (18, 2)\t1\n",
            "  (19, 54)\t1\n",
            "  (19, 70)\t1\n",
            "  (20, 31)\t1\n",
            "  (21, 55)\t1\n",
            "  (22, 31)\t1\n",
            "  (23, 17)\t1\n",
            "  (23, 54)\t1\n",
            "  :\t:\n",
            "  (81, 71)\t2\n",
            "  (81, 73)\t1\n",
            "  (81, 35)\t4\n",
            "  (81, 96)\t2\n",
            "  (81, 53)\t1\n",
            "  (82, 76)\t1\n",
            "  (83, 77)\t1\n",
            "  (83, 68)\t1\n",
            "  (83, 17)\t1\n",
            "  (83, 35)\t2\n",
            "  (85, 11)\t1\n",
            "  (85, 46)\t1\n",
            "  (86, 48)\t1\n",
            "  (87, 17)\t1\n",
            "  (87, 7)\t1\n",
            "  (88, 68)\t1\n",
            "  (89, 16)\t1\n",
            "  (90, 86)\t1\n",
            "  (93, 48)\t1\n",
            "  (95, 68)\t1\n",
            "  (95, 70)\t1\n",
            "  (95, 76)\t1\n",
            "  (99, 17)\t1\n",
            "  (99, 61)\t1\n",
            "  (99, 37)\t1\n"
          ]
        }
      ],
      "source": [
        "## See a sample\n",
        "print(X[0:100,0:100])"
      ]
    },
    {
      "cell_type": "markdown",
      "metadata": {
        "id": "SP7XUPTgM6G3"
      },
      "source": [
        "## Display of count vectorized data -- BoW"
      ]
    },
    {
      "cell_type": "code",
      "execution_count": 38,
      "metadata": {
        "execution": {
          "iopub.execute_input": "2023-10-09T13:56:38.221558Z",
          "iopub.status.busy": "2023-10-09T13:56:38.221253Z",
          "iopub.status.idle": "2023-10-09T13:56:38.267837Z",
          "shell.execute_reply": "2023-10-09T13:56:38.266812Z",
          "shell.execute_reply.started": "2023-10-09T13:56:38.221533Z"
        },
        "trusted": true,
        "colab": {
          "base_uri": "https://localhost:8080/"
        },
        "id": "XuRWizwoM6G3",
        "outputId": "5bc06dd9-be45-45dd-d8c9-064fc0dbc7af"
      },
      "outputs": [
        {
          "output_type": "stream",
          "name": "stdout",
          "text": [
            "<class 'dict'>\n",
            "10000\n",
            "           word   count\n",
            "7821    excuses  234555\n",
            "9297      bigot  231530\n",
            "6830  watergate   91385\n",
            "6459  interpret   91120\n",
            "5957   slightly   78983\n",
            "...         ...     ...\n",
            "717       click     211\n",
            "4851     gained     211\n",
            "265        girl     211\n",
            "6233   feminist     211\n",
            "2936  condition     211\n",
            "\n",
            "[10000 rows x 2 columns]\n"
          ]
        }
      ],
      "source": [
        "vocab = vectorizer.vocabulary_\n",
        "\n",
        "print(type(vocab))\n",
        "print(len(vocab))\n",
        "\n",
        "## Sum the occurrences of the words across the rows of the matrix\n",
        "df_count = X.sum(axis=0).A1\n",
        "\n",
        "countvect_df = pd.DataFrame(list(zip(vocab.keys(), df_count)), ## extract out the items from the dictionary so that we can turn it into a pandas dataframe\n",
        "                           columns = ['word', 'count'])\n",
        "\n",
        "print(countvect_df.sort_values('count', ascending = False))"
      ]
    },
    {
      "cell_type": "code",
      "execution_count": 39,
      "metadata": {
        "execution": {
          "iopub.execute_input": "2023-10-09T13:56:38.269334Z",
          "iopub.status.busy": "2023-10-09T13:56:38.269056Z",
          "iopub.status.idle": "2023-10-09T13:56:45.238664Z",
          "shell.execute_reply": "2023-10-09T13:56:45.237576Z",
          "shell.execute_reply.started": "2023-10-09T13:56:38.269309Z"
        },
        "trusted": true,
        "colab": {
          "base_uri": "https://localhost:8080/",
          "height": 541
        },
        "id": "qOPwxw3TM6G3",
        "outputId": "3a8bccf3-32dc-4c7a-e030-3efbe9db5a34"
      },
      "outputs": [
        {
          "output_type": "display_data",
          "data": {
            "text/plain": [
              "<Figure size 640x480 with 1 Axes>"
            ],
            "image/png": "[encoded data removed]"
          },
          "metadata": {}
        }
      ],
      "source": [
        "## Get top ten words to visualize\n",
        "n = 40\n",
        "top_words_from_countvec = countvect_df.sort_values('count', ascending = False).head(n)\n",
        "\n",
        "## Plot\n",
        "plt.bar(top_words_from_countvec['word'], top_words_from_countvec['count'])\n",
        "plt.ylim([9000, 300000 + 100])\n",
        "plt.xticks(rotation = 90)\n",
        "plt.title(\"Top n words\")\n",
        "plt.show()"
      ]
    },
    {
      "cell_type": "markdown",
      "metadata": {
        "id": "KWzbD823M6G3"
      },
      "source": [
        "We see some non-English, possibly Russian words that are highly used in our corpus and forms the most common word features for our Bag of Words model."
      ]
    },
    {
      "cell_type": "markdown",
      "metadata": {
        "id": "Nza2Elj9M6G3"
      },
      "source": [
        "## Train test split\n",
        "\n",
        "Use 80-20 train test split"
      ]
    },
    {
      "cell_type": "code",
      "execution_count": 40,
      "metadata": {
        "execution": {
          "iopub.execute_input": "2023-10-09T13:56:45.240398Z",
          "iopub.status.busy": "2023-10-09T13:56:45.240097Z",
          "iopub.status.idle": "2023-10-09T13:56:45.328674Z",
          "shell.execute_reply": "2023-10-09T13:56:45.327737Z",
          "shell.execute_reply.started": "2023-10-09T13:56:45.240371Z"
        },
        "trusted": true,
        "id": "sIIGbVtAM6G4"
      },
      "outputs": [],
      "source": [
        "from sklearn.model_selection import train_test_split\n",
        "\n",
        "y = data['label']  # Assuming 'label' is the column with fake/real labels\n",
        "X_train, X_test, y_train, y_test = train_test_split(X, y, test_size=0.2, random_state=42)"
      ]
    },
    {
      "cell_type": "code",
      "execution_count": 41,
      "metadata": {
        "execution": {
          "iopub.execute_input": "2023-10-09T13:56:45.33055Z",
          "iopub.status.busy": "2023-10-09T13:56:45.330048Z",
          "iopub.status.idle": "2023-10-09T13:56:45.33644Z",
          "shell.execute_reply": "2023-10-09T13:56:45.335276Z",
          "shell.execute_reply.started": "2023-10-09T13:56:45.330522Z"
        },
        "trusted": true,
        "colab": {
          "base_uri": "https://localhost:8080/"
        },
        "id": "66VgzGGsM6G4",
        "outputId": "f86f70e8-086d-4b9c-87c8-4f391c3abbc9"
      },
      "outputs": [
        {
          "output_type": "stream",
          "name": "stdout",
          "text": [
            "Train set  (57707, 10000)\n",
            "Test set  (14427, 10000)\n"
          ]
        }
      ],
      "source": [
        "## Check dimensions\n",
        "\n",
        "print('Train set ', X_train.shape)\n",
        "print('Test set ', X_test.shape)"
      ]
    },
    {
      "cell_type": "markdown",
      "metadata": {
        "id": "gNYFzQ41M6G4"
      },
      "source": [
        "# First set: Use different models on BOW"
      ]
    },
    {
      "cell_type": "markdown",
      "metadata": {
        "id": "CCC9KnPrM6G4"
      },
      "source": [
        "## BOW 1: Logistic regression"
      ]
    },
    {
      "cell_type": "code",
      "execution_count": 42,
      "metadata": {
        "execution": {
          "iopub.execute_input": "2023-10-09T13:56:45.337958Z",
          "iopub.status.busy": "2023-10-09T13:56:45.337547Z",
          "iopub.status.idle": "2023-10-09T13:57:23.735502Z",
          "shell.execute_reply": "2023-10-09T13:57:23.734163Z",
          "shell.execute_reply.started": "2023-10-09T13:56:45.337925Z"
        },
        "trusted": true,
        "colab": {
          "base_uri": "https://localhost:8080/"
        },
        "id": "GxxA7QNcM6G4",
        "outputId": "9fceb758-7e27-48b2-d79f-5f6bbd815015"
      },
      "outputs": [
        {
          "output_type": "stream",
          "name": "stdout",
          "text": [
            "Time to fit logistic regression : 27.63245129585266\n"
          ]
        }
      ],
      "source": [
        "## TRAIN\n",
        "from sklearn.linear_model import LogisticRegression\n",
        "\n",
        "s = time.time()\n",
        "log_clf = LogisticRegression(max_iter=1000)  # Increased max_iter for convergence\n",
        "log_clf.fit(X_train, y_train)\n",
        "time_for_logreg = time.time() - s\n",
        "print(\"Time to fit logistic regression :\", time_for_logreg )"
      ]
    },
    {
      "cell_type": "code",
      "execution_count": 43,
      "metadata": {
        "execution": {
          "iopub.execute_input": "2023-10-09T13:57:23.742717Z",
          "iopub.status.busy": "2023-10-09T13:57:23.741895Z",
          "iopub.status.idle": "2023-10-09T13:57:23.879853Z",
          "shell.execute_reply": "2023-10-09T13:57:23.878648Z",
          "shell.execute_reply.started": "2023-10-09T13:57:23.742666Z"
        },
        "trusted": true,
        "colab": {
          "base_uri": "https://localhost:8080/"
        },
        "id": "nyS8YlZoM6G4",
        "outputId": "10cd19b8-7dde-4973-c317-fd9d58570b3c"
      },
      "outputs": [
        {
          "output_type": "stream",
          "name": "stdout",
          "text": [
            "              precision    recall  f1-score   support\n",
            "\n",
            "           0       0.96      0.93      0.94      7089\n",
            "           1       0.94      0.96      0.95      7338\n",
            "\n",
            "    accuracy                           0.95     14427\n",
            "   macro avg       0.95      0.95      0.95     14427\n",
            "weighted avg       0.95      0.95      0.95     14427\n",
            "\n"
          ]
        }
      ],
      "source": [
        "## Evaluate\n",
        "\n",
        "from sklearn.metrics import classification_report, confusion_matrix\n",
        "\n",
        "y_pred_log = log_clf.predict(X_test)\n",
        "print(classification_report(y_test, y_pred_log))"
      ]
    },
    {
      "cell_type": "code",
      "execution_count": 44,
      "metadata": {
        "execution": {
          "iopub.execute_input": "2023-10-09T13:57:23.881645Z",
          "iopub.status.busy": "2023-10-09T13:57:23.881314Z",
          "iopub.status.idle": "2023-10-09T13:57:24.177421Z",
          "shell.execute_reply": "2023-10-09T13:57:24.17629Z",
          "shell.execute_reply.started": "2023-10-09T13:57:23.881619Z"
        },
        "trusted": true,
        "colab": {
          "base_uri": "https://localhost:8080/",
          "height": 470
        },
        "id": "Be7Y2UrmM6G5",
        "outputId": "865a89fd-940a-44bc-81b4-114e20356d91"
      },
      "outputs": [
        {
          "output_type": "execute_result",
          "data": {
            "text/plain": [
              "Text(50.722222222222214, 0.5, 'Real Labels')"
            ]
          },
          "metadata": {},
          "execution_count": 44
        },
        {
          "output_type": "display_data",
          "data": {
            "text/plain": [
              "<Figure size 640x480 with 2 Axes>"
            ],
            "image/png": "[encoded data removed]"
          },
          "metadata": {}
        }
      ],
      "source": [
        "## Evaluate with Confusion Matrix\n",
        "\n",
        "import seaborn as sns\n",
        "\n",
        "sns.heatmap(confusion_matrix(y_test, y_pred_log), annot=True, fmt='', cmap='Blues')\n",
        "\n",
        "plt.xlabel('Predicted Labels')\n",
        "plt.ylabel('Real Labels')"
      ]
    },
    {
      "cell_type": "markdown",
      "metadata": {
        "id": "C4Ix1OZ6M6G5"
      },
      "source": [
        "## BOW2: SVM\n",
        "\n",
        "SVM may be good for high dimensionality data, such as text that we are working on, with 10000 predictors. In such cases we use linear kernels, and it is interesting to see if it gives similar results to Logistic regression."
      ]
    },
    {
      "cell_type": "code",
      "execution_count": 45,
      "metadata": {
        "execution": {
          "iopub.execute_input": "2023-10-09T13:57:24.179401Z",
          "iopub.status.busy": "2023-10-09T13:57:24.179006Z",
          "iopub.status.idle": "2023-10-09T14:04:37.992178Z",
          "shell.execute_reply": "2023-10-09T14:04:37.991079Z",
          "shell.execute_reply.started": "2023-10-09T13:57:24.179365Z"
        },
        "trusted": true,
        "colab": {
          "base_uri": "https://localhost:8080/"
        },
        "id": "DhdXmMQZM6G5",
        "outputId": "0cbe4a30-a190-4ea9-971d-7135e691cfab"
      },
      "outputs": [
        {
          "output_type": "stream",
          "name": "stdout",
          "text": [
            "Time to fit SVM : 944.2152018547058\n"
          ]
        },
        {
          "output_type": "stream",
          "name": "stderr",
          "text": [
            "/usr/local/lib/python3.10/dist-packages/sklearn/svm/_base.py:1244: ConvergenceWarning: Liblinear failed to converge, increase the number of iterations.\n",
            "  warnings.warn(\n"
          ]
        }
      ],
      "source": [
        "from sklearn.svm import LinearSVC\n",
        "\n",
        "linear_svc_clf = LinearSVC(max_iter = 100000) ##increase max iter to 100k for convergence\n",
        "s = time.time()\n",
        "linear_svc_clf.fit(X_train, y_train)\n",
        "time_for_linear_svm = time.time() - s\n",
        "print(\"Time to fit SVM :\", time_for_linear_svm)"
      ]
    },
    {
      "cell_type": "markdown",
      "metadata": {
        "id": "swWzVnIBM6G5"
      },
      "source": [
        "Time fitting SVM -- much longer than fitting a NaiveBayes, possibly due to the large feature space of the data."
      ]
    },
    {
      "cell_type": "code",
      "execution_count": 46,
      "metadata": {
        "execution": {
          "iopub.execute_input": "2023-10-09T14:04:37.994087Z",
          "iopub.status.busy": "2023-10-09T14:04:37.993746Z",
          "iopub.status.idle": "2023-10-09T14:04:38.042589Z",
          "shell.execute_reply": "2023-10-09T14:04:38.041482Z",
          "shell.execute_reply.started": "2023-10-09T14:04:37.99406Z"
        },
        "trusted": true,
        "colab": {
          "base_uri": "https://localhost:8080/"
        },
        "id": "a7C8l2TZM6G5",
        "outputId": "338b5bc2-3afd-4d9a-fa45-4e7b722c9903"
      },
      "outputs": [
        {
          "output_type": "stream",
          "name": "stdout",
          "text": [
            "              precision    recall  f1-score   support\n",
            "\n",
            "           0       0.95      0.92      0.94      7089\n",
            "           1       0.93      0.95      0.94      7338\n",
            "\n",
            "    accuracy                           0.94     14427\n",
            "   macro avg       0.94      0.94      0.94     14427\n",
            "weighted avg       0.94      0.94      0.94     14427\n",
            "\n"
          ]
        }
      ],
      "source": [
        "## Evaluate\n",
        "y_pred_svc = linear_svc_clf.predict(X_test)\n",
        "print(classification_report(y_test, y_pred_svc))"
      ]
    },
    {
      "cell_type": "code",
      "execution_count": 47,
      "metadata": {
        "execution": {
          "iopub.execute_input": "2023-10-09T14:04:38.044208Z",
          "iopub.status.busy": "2023-10-09T14:04:38.043938Z",
          "iopub.status.idle": "2023-10-09T14:04:38.330165Z",
          "shell.execute_reply": "2023-10-09T14:04:38.329249Z",
          "shell.execute_reply.started": "2023-10-09T14:04:38.044184Z"
        },
        "trusted": true,
        "colab": {
          "base_uri": "https://localhost:8080/",
          "height": 467
        },
        "id": "tZheqxJhM6G5",
        "outputId": "029cbc2f-e4cd-4cd3-d372-01007e8ebaab"
      },
      "outputs": [
        {
          "output_type": "execute_result",
          "data": {
            "text/plain": [
              "Text(50.722222222222214, 0.5, 'Real Labels')"
            ]
          },
          "metadata": {},
          "execution_count": 47
        },
        {
          "output_type": "display_data",
          "data": {
            "text/plain": [
              "<Figure size 640x480 with 2 Axes>"
            ],
            "image/png": "[encoded data removed]"
          },
          "metadata": {}
        }
      ],
      "source": [
        "## Evaluate with Confusion Matrix\n",
        "\n",
        "sns.heatmap(confusion_matrix(y_test,y_pred_svc), annot=True, fmt='', cmap='Blues')\n",
        "\n",
        "plt.xlabel('Predicted Labels')\n",
        "plt.ylabel('Real Labels')"
      ]
    },
    {
      "cell_type": "markdown",
      "metadata": {
        "id": "iSv0FHsqM6G5"
      },
      "source": [
        "#### Linear SVM vs Naive Bayes\n",
        "\n",
        "* Naive Bayes regression fits to data much quicker\n",
        "* Accuracy is roughly the same\n"
      ]
    },
    {
      "cell_type": "markdown",
      "metadata": {
        "id": "OwD7KW5OM6G6"
      },
      "source": [
        "## BOW3: Random forests"
      ]
    },
    {
      "cell_type": "markdown",
      "metadata": {
        "id": "WQnmwYLcM6G6"
      },
      "source": [
        "For the forest, we will use 300 trees, and default values for the other hyperparameters\n",
        "\n",
        "* ceriterion: gini\n",
        "* max_depth = none, i.e. expanded until pure or less than min_samples_split\n",
        "* max_features = sqrt\n",
        "\n",
        "Random forests work by bootstrapping the dataset to train slightly different trees, and then all the trees are combined to form an ensemble model, where the final decision is an equally weighted aggregate of the votes from all trees. The bootstrapping method, along with randomly selecting a subset of predictors to choose for for each split of the trees, help to decorrelate the trees such that they offer different insights into the data. Trees are usually fitted by finding the best feature and its best split at each branch of the tree and choosing the one that best minimises some cost function, such as entropy or gini impurity.\n",
        "\n",
        "Random forests help to generalise an otherwise overfitted single decision tree."
      ]
    },
    {
      "cell_type": "code",
      "execution_count": 48,
      "metadata": {
        "execution": {
          "iopub.execute_input": "2023-10-09T14:04:38.331924Z",
          "iopub.status.busy": "2023-10-09T14:04:38.331568Z",
          "iopub.status.idle": "2023-10-09T14:09:21.832483Z",
          "shell.execute_reply": "2023-10-09T14:09:21.830938Z",
          "shell.execute_reply.started": "2023-10-09T14:04:38.331896Z"
        },
        "trusted": true,
        "colab": {
          "base_uri": "https://localhost:8080/"
        },
        "id": "iO5PtzXvM6G6",
        "outputId": "8be92db4-f87d-4875-855e-8d7362824e15"
      },
      "outputs": [
        {
          "output_type": "stream",
          "name": "stdout",
          "text": [
            "RandomForestClassifier(n_estimators=300, n_jobs=-1)\n",
            "Time to fit RF : 619.0576620101929\n"
          ]
        }
      ],
      "source": [
        "from sklearn.ensemble import RandomForestClassifier\n",
        "rf1 = RandomForestClassifier(n_estimators=300, n_jobs = -1)\n",
        "print(rf1)\n",
        "\n",
        "s = time.time()\n",
        "rf1.fit(X_train, y_train)\n",
        "time_for_rf_1 = time.time() - s\n",
        "print(\"Time to fit RF :\", time_for_rf_1)"
      ]
    },
    {
      "cell_type": "code",
      "execution_count": 49,
      "metadata": {
        "execution": {
          "iopub.execute_input": "2023-10-09T14:09:21.834696Z",
          "iopub.status.busy": "2023-10-09T14:09:21.834381Z",
          "iopub.status.idle": "2023-10-09T14:09:23.328168Z",
          "shell.execute_reply": "2023-10-09T14:09:23.32727Z",
          "shell.execute_reply.started": "2023-10-09T14:09:21.834665Z"
        },
        "trusted": true,
        "colab": {
          "base_uri": "https://localhost:8080/"
        },
        "id": "P78TJwiqM6G6",
        "outputId": "f0fe7312-09c2-44c7-b4c2-8473535c97db"
      },
      "outputs": [
        {
          "output_type": "stream",
          "name": "stdout",
          "text": [
            "              precision    recall  f1-score   support\n",
            "\n",
            "           0       0.96      0.94      0.95      7089\n",
            "           1       0.95      0.96      0.95      7338\n",
            "\n",
            "    accuracy                           0.95     14427\n",
            "   macro avg       0.95      0.95      0.95     14427\n",
            "weighted avg       0.95      0.95      0.95     14427\n",
            "\n"
          ]
        }
      ],
      "source": [
        "## Evaluate\n",
        "y_pred_rf1 = rf1.predict(X_test)\n",
        "print(classification_report(y_test, y_pred_rf1))"
      ]
    },
    {
      "cell_type": "code",
      "execution_count": 50,
      "metadata": {
        "execution": {
          "iopub.execute_input": "2023-10-09T14:09:23.329848Z",
          "iopub.status.busy": "2023-10-09T14:09:23.329526Z",
          "iopub.status.idle": "2023-10-09T14:09:23.635139Z",
          "shell.execute_reply": "2023-10-09T14:09:23.633964Z",
          "shell.execute_reply.started": "2023-10-09T14:09:23.329816Z"
        },
        "trusted": true,
        "colab": {
          "base_uri": "https://localhost:8080/",
          "height": 471
        },
        "id": "ZFMn9UGZM6G6",
        "outputId": "dd80d83d-cd95-4f24-ecd5-f5c9aa47fb85"
      },
      "outputs": [
        {
          "output_type": "execute_result",
          "data": {
            "text/plain": [
              "Text(50.722222222222214, 0.5, 'Real Labels')"
            ]
          },
          "metadata": {},
          "execution_count": 50
        },
        {
          "output_type": "display_data",
          "data": {
            "text/plain": [
              "<Figure size 640x480 with 2 Axes>"
            ],
            "image/png": "[encoded data removed]"
          },
          "metadata": {}
        }
      ],
      "source": [
        "## Evaluate with Confusion Matrix\n",
        "\n",
        "sns.heatmap(confusion_matrix(y_test,y_pred_rf1), annot=True,\n",
        "            fmt='', cmap='Blues')\n",
        "\n",
        "plt.xlabel('Predicted Labels')\n",
        "plt.ylabel('Real Labels')"
      ]
    },
    {
      "cell_type": "markdown",
      "metadata": {
        "id": "4Iv8b_9tM6G6"
      },
      "source": [
        "## BOW 3.2: Tuned RF"
      ]
    },
    {
      "cell_type": "markdown",
      "metadata": {
        "id": "1I0l4g0sM6G6"
      },
      "source": [
        "There are many hyperparameters to be tuned with random forests.\n",
        "\n",
        "We will use random search (cross validation) instead of gridsearch, which may be faster and more efficient. This is done by randomly selecting points in the hyperparameter space, instead of using all of them."
      ]
    },
    {
      "cell_type": "code",
      "execution_count": 51,
      "metadata": {
        "execution": {
          "iopub.execute_input": "2023-10-09T14:09:23.637406Z",
          "iopub.status.busy": "2023-10-09T14:09:23.636986Z",
          "iopub.status.idle": "2023-10-09T14:09:23.642817Z",
          "shell.execute_reply": "2023-10-09T14:09:23.641571Z",
          "shell.execute_reply.started": "2023-10-09T14:09:23.637368Z"
        },
        "trusted": true,
        "id": "dk3InjchM6G6"
      },
      "outputs": [],
      "source": [
        "from sklearn.model_selection import RandomizedSearchCV"
      ]
    },
    {
      "cell_type": "code",
      "execution_count": 52,
      "metadata": {
        "execution": {
          "iopub.execute_input": "2023-10-09T14:09:23.645048Z",
          "iopub.status.busy": "2023-10-09T14:09:23.644627Z",
          "iopub.status.idle": "2023-10-09T14:09:23.655942Z",
          "shell.execute_reply": "2023-10-09T14:09:23.654817Z",
          "shell.execute_reply.started": "2023-10-09T14:09:23.645012Z"
        },
        "trusted": true,
        "id": "GTlQzo2AM6G7"
      },
      "outputs": [],
      "source": [
        "## Set up hyperparameter space\n",
        "\n",
        "param_grid = {\n",
        "    'n_estimators' : [50, 150, 300, 450],\n",
        "    'max_depth': [None, 10, 20, 40],\n",
        "    'max_features': ['sqrt', 'log2']\n",
        "}"
      ]
    },
    {
      "cell_type": "code",
      "execution_count": 53,
      "metadata": {
        "execution": {
          "iopub.execute_input": "2023-10-09T14:09:23.658056Z",
          "iopub.status.busy": "2023-10-09T14:09:23.657604Z",
          "iopub.status.idle": "2023-10-09T14:20:56.731262Z",
          "shell.execute_reply": "2023-10-09T14:20:56.729932Z",
          "shell.execute_reply.started": "2023-10-09T14:09:23.658017Z"
        },
        "trusted": true,
        "colab": {
          "base_uri": "https://localhost:8080/"
        },
        "id": "l0GpNaL4M6G7",
        "outputId": "394d5094-1a89-4681-fbdb-a1454ad3e563"
      },
      "outputs": [
        {
          "output_type": "stream",
          "name": "stdout",
          "text": [
            "Fitting 3 folds for each of 10 candidates, totalling 30 fits\n",
            "Time for hyperparameter tuning via random search CV  1230.6290895938873\n"
          ]
        }
      ],
      "source": [
        "## Reinstantiate\n",
        "rf = RandomForestClassifier(random_state = 42)\n",
        "\n",
        "## Fit the random search object (i.e. start fitting rfs) and find the best model\n",
        "s = time.time()\n",
        "\n",
        "## init the RandomizedSearchCV object as random_search, stating the grid of params to test\n",
        "random_search = RandomizedSearchCV(estimator=rf, param_distributions=param_grid,\n",
        "                                   n_iter=10, ## number of parameter settings being sampled (number of combinations being tried)\n",
        "                                   cv=3, n_jobs=-1, verbose=2, random_state=42)\n",
        "## fit the random search object\n",
        "random_search.fit(X_train, y_train)\n",
        "time_for_rf_2_hypertun = time.time() - s\n",
        "print(\"Time for hyperparameter tuning via random search CV \", time_for_rf_2_hypertun)\n",
        "best_rf = random_search.best_estimator_"
      ]
    },
    {
      "cell_type": "markdown",
      "metadata": {
        "id": "QPrAZzKVM6G7"
      },
      "source": [
        "For the sake of saving time fitting the random search, we opt for 10 iterations i.e. 10 combinations tested"
      ]
    },
    {
      "cell_type": "code",
      "execution_count": 54,
      "metadata": {
        "execution": {
          "iopub.execute_input": "2023-10-09T14:20:56.733598Z",
          "iopub.status.busy": "2023-10-09T14:20:56.733275Z",
          "iopub.status.idle": "2023-10-09T14:20:58.432917Z",
          "shell.execute_reply": "2023-10-09T14:20:58.431691Z",
          "shell.execute_reply.started": "2023-10-09T14:20:56.733565Z"
        },
        "trusted": true,
        "colab": {
          "base_uri": "https://localhost:8080/"
        },
        "id": "5uNOdB4QM6G7",
        "outputId": "416deffc-f08f-4f16-eb69-2849af8b4ec5"
      },
      "outputs": [
        {
          "output_type": "stream",
          "name": "stdout",
          "text": [
            "Random Forest Results\n",
            "              precision    recall  f1-score   support\n",
            "\n",
            "           0       0.96      0.93      0.94      7089\n",
            "           1       0.93      0.96      0.95      7338\n",
            "\n",
            "    accuracy                           0.94     14427\n",
            "   macro avg       0.94      0.94      0.94     14427\n",
            "weighted avg       0.94      0.94      0.94     14427\n",
            "\n"
          ]
        }
      ],
      "source": [
        "y_pred_rf2 = best_rf.predict(X_test)\n",
        "print(\"Random Forest Results\")\n",
        "print(classification_report(y_test, y_pred_rf2))"
      ]
    },
    {
      "cell_type": "code",
      "execution_count": 55,
      "metadata": {
        "execution": {
          "iopub.execute_input": "2023-10-09T14:20:58.434595Z",
          "iopub.status.busy": "2023-10-09T14:20:58.434317Z",
          "iopub.status.idle": "2023-10-09T14:21:37.388985Z",
          "shell.execute_reply": "2023-10-09T14:21:37.386109Z",
          "shell.execute_reply.started": "2023-10-09T14:20:58.434572Z"
        },
        "trusted": true,
        "colab": {
          "base_uri": "https://localhost:8080/"
        },
        "id": "uet9PqxbM6G7",
        "outputId": "431314b7-780c-4849-8157-14c7c4fee92f"
      },
      "outputs": [
        {
          "output_type": "stream",
          "name": "stdout",
          "text": [
            "Time to fit tuned rf  262.78835010528564\n"
          ]
        }
      ],
      "source": [
        "## For fair comparison, we want to also know the time taken to fit this new 'ideal' rf\n",
        "\n",
        "# save tuned hyperparameters\n",
        "best_params_rf_2 = random_search.best_params_\n",
        "\n",
        "# then init the rf model with the best params\n",
        "rf_2_tuned = RandomForestClassifier(**best_params_rf_2) ## need ** to unpack the dictionary\n",
        "\n",
        "## Time the duration for fitting\n",
        "s = time.time()\n",
        "rf_2_tuned.fit(X_train, y_train)\n",
        "time_for_rf_tuned = time.time() - s\n",
        "print('Time to fit tuned rf ', time_for_rf_tuned)"
      ]
    },
    {
      "cell_type": "markdown",
      "metadata": {
        "id": "2TygZheAM6G7"
      },
      "source": [
        "# Second set: Use different feature engineering -- TFIDF\n",
        "\n",
        "TFIDF gives more weight to terms that are frequent in a particular document but not in many documents across the board, and is a different way of vectorising a particular document apart from BoW which just counts the number of terms that is in a specific document, disregarding how common/uncommon it is in others."
      ]
    },
    {
      "cell_type": "code",
      "execution_count": 56,
      "metadata": {
        "execution": {
          "iopub.status.busy": "2023-10-09T14:21:37.390204Z",
          "iopub.status.idle": "2023-10-09T14:21:37.390579Z",
          "shell.execute_reply": "2023-10-09T14:21:37.390425Z",
          "shell.execute_reply.started": "2023-10-09T14:21:37.390409Z"
        },
        "trusted": true,
        "colab": {
          "base_uri": "https://localhost:8080/"
        },
        "id": "pAKlZXLMM6G7",
        "outputId": "36effaf6-566e-46e4-989e-4cfc3a114cb9"
      },
      "outputs": [
        {
          "output_type": "stream",
          "name": "stdout",
          "text": [
            "Time to fit logistic regression: 2.3660826683044434\n",
            "Time to fit SVM linear: 1.9456665515899658\n",
            "Time to fit Random Forest: 262.35893034935\n"
          ]
        }
      ],
      "source": [
        "from sklearn.feature_extraction.text import TfidfVectorizer\n",
        "\n",
        "## Use the TfidfVectorizer -- same parameters are before\n",
        "vectoriser = TfidfVectorizer(min_df=100,\n",
        "                             max_df=0.90,\n",
        "                             stop_words='english',\n",
        "                             max_features=10000)\n",
        "\n",
        "X = vectoriser.fit_transform(preprocessed_text)\n",
        "\n",
        "y = data['label']\n",
        "## Same train test split\n",
        "X_train, X_test, y_train, y_test = train_test_split(X, y, test_size=0.2, random_state=42)\n",
        "\n",
        "# 1. Log Reg\n",
        "s = time.time()\n",
        "log_clf = LogisticRegression(max_iter=1000)\n",
        "log_clf.fit(X_train, y_train)\n",
        "time_for_logreg_tfidf = time.time() - s\n",
        "print(\"Time to fit logistic regression:\", time_for_logreg_tfidf)\n",
        "\n",
        "# 2. SVM Linear\n",
        "s = time.time()\n",
        "svm_linear_clf = LinearSVC(max_iter=1000)\n",
        "svm_linear_clf.fit(X_train, y_train)\n",
        "time_for_linear_svm_tfidf = time.time() - s\n",
        "print(\"Time to fit SVM linear:\", time_for_linear_svm_tfidf)\n",
        "\n",
        "\n",
        "# Random Forest\n",
        "s = time.time()\n",
        "rf_clf = RandomForestClassifier()\n",
        "rf_clf.fit(X_train, y_train)\n",
        "time_for_untuned_rf_tfidf = time.time() - s\n",
        "print(\"Time to fit Random Forest:\", time_for_untuned_rf_tfidf)"
      ]
    },
    {
      "cell_type": "code",
      "execution_count": 57,
      "metadata": {
        "execution": {
          "iopub.status.busy": "2023-10-09T14:21:37.392857Z",
          "iopub.status.idle": "2023-10-09T14:21:37.393681Z",
          "shell.execute_reply": "2023-10-09T14:21:37.39342Z",
          "shell.execute_reply.started": "2023-10-09T14:21:37.393391Z"
        },
        "trusted": true,
        "colab": {
          "base_uri": "https://localhost:8080/"
        },
        "id": "SlBJaH4pM6G7",
        "outputId": "9b2a34a7-85ee-4fb3-e11d-619c49caea87"
      },
      "outputs": [
        {
          "output_type": "stream",
          "name": "stdout",
          "text": [
            "Logistic Regression Results\n",
            "              precision    recall  f1-score   support\n",
            "\n",
            "           0       0.95      0.93      0.94      7089\n",
            "           1       0.94      0.95      0.94      7338\n",
            "\n",
            "    accuracy                           0.94     14427\n",
            "   macro avg       0.94      0.94      0.94     14427\n",
            "weighted avg       0.94      0.94      0.94     14427\n",
            "\n",
            "SVM Linear Results\n",
            "              precision    recall  f1-score   support\n",
            "\n",
            "           0       0.96      0.94      0.95      7089\n",
            "           1       0.95      0.96      0.95      7338\n",
            "\n",
            "    accuracy                           0.95     14427\n",
            "   macro avg       0.95      0.95      0.95     14427\n",
            "weighted avg       0.95      0.95      0.95     14427\n",
            "\n",
            "Random Forest Results\n",
            "              precision    recall  f1-score   support\n",
            "\n",
            "           0       0.96      0.94      0.95      7089\n",
            "           1       0.94      0.96      0.95      7338\n",
            "\n",
            "    accuracy                           0.95     14427\n",
            "   macro avg       0.95      0.95      0.95     14427\n",
            "weighted avg       0.95      0.95      0.95     14427\n",
            "\n"
          ]
        }
      ],
      "source": [
        "## Evaluation\n",
        "## Log reg\n",
        "y_pred_log = log_clf.predict(X_test)\n",
        "print(\"Logistic Regression Results\")\n",
        "print(classification_report(y_test, y_pred_log))\n",
        "\n",
        "## SVM\n",
        "y_pred_svm = svm_linear_clf.predict(X_test)\n",
        "print(\"SVM Linear Results\")\n",
        "print(classification_report(y_test, y_pred_svm))\n",
        "\n",
        "## RF\n",
        "y_pred_rf = rf_clf.predict(X_test)\n",
        "print(\"Random Forest Results\")\n",
        "print(classification_report(y_test, y_pred_rf))"
      ]
    },
    {
      "cell_type": "markdown",
      "metadata": {
        "id": "6UzSz9q7M6G8"
      },
      "source": [
        "### Save the results so far"
      ]
    },
    {
      "cell_type": "code",
      "execution_count": 58,
      "metadata": {
        "execution": {
          "iopub.status.busy": "2023-10-09T14:21:37.395282Z",
          "iopub.status.idle": "2023-10-09T14:21:37.396103Z",
          "shell.execute_reply": "2023-10-09T14:21:37.395853Z",
          "shell.execute_reply.started": "2023-10-09T14:21:37.395825Z"
        },
        "trusted": true,
        "id": "hBBpNj9TM6G8"
      },
      "outputs": [],
      "source": [
        "## Time to train, manually save since I forgot to do so when fitting\n",
        "\n",
        "## Model prediction results\n",
        "acc_bow_logreg = .95\n",
        "acc_bow_svm = .94\n",
        "acc_bow_rf_untuned = .95\n",
        "acc_bow_rf_tuned = .94\n",
        "acc_tfidf_logreg = .94\n",
        "acc_tfidf_svm = .95\n",
        "acc_tfidf_rf_untuned = .95"
      ]
    },
    {
      "cell_type": "code",
      "execution_count": 59,
      "metadata": {
        "execution": {
          "iopub.status.busy": "2023-10-09T14:21:37.39752Z",
          "iopub.status.idle": "2023-10-09T14:21:37.398503Z",
          "shell.execute_reply": "2023-10-09T14:21:37.398219Z",
          "shell.execute_reply.started": "2023-10-09T14:21:37.39819Z"
        },
        "trusted": true,
        "id": "TWNR1wfdM6G8"
      },
      "outputs": [],
      "source": [
        "import pandas as pd\n",
        "\n",
        "model_comparisons = pd.DataFrame({\n",
        "    'Vector_type' : ['BOW']*4 + ['TFIDF']*3,\n",
        "    'Model': [\"Logistic reg\", 'SVM', 'RF', 'RF tuned', 'Logistic reg', 'SVM', 'RF'],\n",
        "    'Time_to_fit' : [time_for_logreg, time_for_linear_svm, time_for_rf_1, time_for_rf_tuned, time_for_logreg_tfidf, time_for_linear_svm_tfidf, time_for_untuned_rf_tfidf],\n",
        "    'Accuracy_score' : [acc_bow_logreg, acc_bow_svm, acc_bow_rf_untuned, acc_bow_rf_tuned, acc_tfidf_logreg, acc_tfidf_svm, acc_tfidf_rf_untuned],\n",
        "    'No_words_predictors' : 10000\n",
        "}\n",
        ")"
      ]
    },
    {
      "cell_type": "code",
      "execution_count": 60,
      "metadata": {
        "execution": {
          "iopub.status.busy": "2023-10-09T14:21:37.400516Z",
          "iopub.status.idle": "2023-10-09T14:21:37.401177Z",
          "shell.execute_reply": "2023-10-09T14:21:37.400983Z",
          "shell.execute_reply.started": "2023-10-09T14:21:37.400961Z"
        },
        "trusted": true,
        "colab": {
          "base_uri": "https://localhost:8080/"
        },
        "id": "P9y7hEOBM6G8",
        "outputId": "82dd1226-6c66-4e26-e98f-f3b6b0477afb"
      },
      "outputs": [
        {
          "output_type": "stream",
          "name": "stdout",
          "text": [
            "  Vector_type         Model  Time_to_fit  Accuracy_score  No_words_predictors\n",
            "5       TFIDF           SVM     1.945667            0.95                10000\n",
            "4       TFIDF  Logistic reg     2.366083            0.94                10000\n",
            "0         BOW  Logistic reg    27.632451            0.95                10000\n",
            "6       TFIDF            RF   262.358930            0.95                10000\n",
            "3         BOW      RF tuned   262.788350            0.94                10000\n",
            "2         BOW            RF   619.057662            0.95                10000\n",
            "1         BOW           SVM   944.215202            0.94                10000\n"
          ]
        }
      ],
      "source": [
        "print(model_comparisons.sort_values('Time_to_fit', ascending = True))"
      ]
    },
    {
      "cell_type": "markdown",
      "metadata": {
        "id": "NFwXjyzGM6G8"
      },
      "source": [
        "# What if we had reduced the number of words/predictors to 5000 (i.e. halving the number of columns)?\n",
        "\n",
        "Will this still be enough information for our models to perform well?\n"
      ]
    },
    {
      "cell_type": "markdown",
      "metadata": {
        "id": "NtdlTNRZM6G8"
      },
      "source": [
        "## BOW (5000 predictors)"
      ]
    },
    {
      "cell_type": "code",
      "execution_count": 61,
      "metadata": {
        "execution": {
          "iopub.status.busy": "2023-10-09T14:21:37.402414Z",
          "iopub.status.idle": "2023-10-09T14:21:37.402739Z",
          "shell.execute_reply": "2023-10-09T14:21:37.402598Z",
          "shell.execute_reply.started": "2023-10-09T14:21:37.402583Z"
        },
        "trusted": true,
        "colab": {
          "base_uri": "https://localhost:8080/"
        },
        "id": "URaAL9WcM6G8",
        "outputId": "72589764-4da8-4cf3-cdc8-d38146832ba0"
      },
      "outputs": [
        {
          "output_type": "stream",
          "name": "stdout",
          "text": [
            "(72134, 5000)\n",
            "Time to fit logistic regression : 20.59636878967285\n"
          ]
        }
      ],
      "source": [
        "## Create instance of BOW vectoriser\n",
        "bow_vectoriser = CountVectorizer(min_df = 100, ## require a word to be in at least 100 documents\n",
        "                            max_df = 0.90, ## is a word appears in 90% or more of documents, then ignore, since it may be too common\n",
        "                            stop_words = 'english', ## use stopwords again, although we had used it from spacy already\n",
        "                            max_features = 5000) ## now half only\n",
        "\n",
        "## Apply vectorisers to data\n",
        "X = bow_vectoriser.fit_transform(preprocessed_text)\n",
        "\n",
        "## Check shape\n",
        "print(X.shape)\n",
        "\n",
        "## Train test split\n",
        "y = data['label']  # Assuming 'label' is the column with fake/real labels\n",
        "X_train, X_test, y_train, y_test = train_test_split(X, y, test_size=0.2, random_state=42)\n",
        "\n",
        "## FIT LOG REG MODEL ==========================================================\n",
        "s = time.time()\n",
        "log_clf_reduced_preds = LogisticRegression(max_iter=1000)  # Increased max_iter for convergence\n",
        "log_clf_reduced_preds.fit(X_train, y_train)\n",
        "print(\"Time to fit logistic regression :\", time.time() - s)"
      ]
    },
    {
      "cell_type": "code",
      "execution_count": 62,
      "metadata": {
        "execution": {
          "iopub.status.busy": "2023-10-09T14:21:37.404666Z",
          "iopub.status.idle": "2023-10-09T14:21:37.405042Z",
          "shell.execute_reply": "2023-10-09T14:21:37.40489Z",
          "shell.execute_reply.started": "2023-10-09T14:21:37.404874Z"
        },
        "trusted": true,
        "colab": {
          "base_uri": "https://localhost:8080/"
        },
        "id": "CpA44uExM6G8",
        "outputId": "2e12b990-dace-48a3-eb45-6ff273bf8aab"
      },
      "outputs": [
        {
          "output_type": "stream",
          "name": "stdout",
          "text": [
            "              precision    recall  f1-score   support\n",
            "\n",
            "           0       0.94      0.92      0.93      7089\n",
            "           1       0.92      0.94      0.93      7338\n",
            "\n",
            "    accuracy                           0.93     14427\n",
            "   macro avg       0.93      0.93      0.93     14427\n",
            "weighted avg       0.93      0.93      0.93     14427\n",
            "\n"
          ]
        }
      ],
      "source": [
        "## EVALUATE LOG REG MODEL --------------------------------------------------------\n",
        "from sklearn.metrics import classification_report\n",
        "y_pred_log_reg_reduced_preds = log_clf_reduced_preds.predict(X_test)\n",
        "print(classification_report(y_test, y_pred_log_reg_reduced_preds))"
      ]
    },
    {
      "cell_type": "markdown",
      "metadata": {
        "id": "MOc9opu9M6G8"
      },
      "source": [
        "## TFIDF (5000 predictors)"
      ]
    },
    {
      "cell_type": "code",
      "execution_count": 63,
      "metadata": {
        "execution": {
          "iopub.status.busy": "2023-10-09T14:21:37.405899Z",
          "iopub.status.idle": "2023-10-09T14:21:37.40622Z",
          "shell.execute_reply": "2023-10-09T14:21:37.406082Z",
          "shell.execute_reply.started": "2023-10-09T14:21:37.406067Z"
        },
        "trusted": true,
        "colab": {
          "base_uri": "https://localhost:8080/"
        },
        "id": "VX89Ylv6M6G9",
        "outputId": "62c228b2-d35b-47c4-9434-bfcebc1304df"
      },
      "outputs": [
        {
          "output_type": "stream",
          "name": "stdout",
          "text": [
            "Time to fit logistic regression: 3.669062376022339\n"
          ]
        }
      ],
      "source": [
        "from sklearn.feature_extraction.text import TfidfVectorizer\n",
        "\n",
        "## Use the TfidfVectorizer -- same parameters are before\n",
        "vectoriser = TfidfVectorizer(min_df=100,\n",
        "                             max_df=0.90,\n",
        "                             stop_words='english',\n",
        "                             max_features=5000)\n",
        "\n",
        "X = vectoriser.fit_transform(preprocessed_text)\n",
        "\n",
        "y = data['label']\n",
        "## Same train test split\n",
        "X_train, X_test, y_train, y_test = train_test_split(X, y, test_size=0.2, random_state=42)\n",
        "\n",
        "# 1. Log Reg\n",
        "s = time.time()\n",
        "log_clf = LogisticRegression(max_iter=1000)\n",
        "log_clf.fit(X_train, y_train)\n",
        "print(\"Time to fit logistic regression:\", time.time() - s)\n",
        "\n"
      ]
    },
    {
      "cell_type": "code",
      "execution_count": 64,
      "metadata": {
        "execution": {
          "iopub.status.busy": "2023-10-09T14:21:37.408053Z",
          "iopub.status.idle": "2023-10-09T14:21:37.408383Z",
          "shell.execute_reply": "2023-10-09T14:21:37.408236Z",
          "shell.execute_reply.started": "2023-10-09T14:21:37.408221Z"
        },
        "trusted": true,
        "colab": {
          "base_uri": "https://localhost:8080/"
        },
        "id": "z4ay7NWPM6G9",
        "outputId": "2211e93b-9d21-478c-ab0b-71e48c0b37fd"
      },
      "outputs": [
        {
          "output_type": "stream",
          "name": "stdout",
          "text": [
            "              precision    recall  f1-score   support\n",
            "\n",
            "           0       0.94      0.93      0.94      7089\n",
            "           1       0.93      0.95      0.94      7338\n",
            "\n",
            "    accuracy                           0.94     14427\n",
            "   macro avg       0.94      0.94      0.94     14427\n",
            "weighted avg       0.94      0.94      0.94     14427\n",
            "\n"
          ]
        }
      ],
      "source": [
        "## EVALUATE LOG REG MODEL --------------------------------------------------------\n",
        "from sklearn.metrics import classification_report\n",
        "y_pred_log_reg_reduced_preds = log_clf.predict(X_test)\n",
        "print(classification_report(y_test, y_pred_log_reg_reduced_preds))"
      ]
    },
    {
      "cell_type": "markdown",
      "metadata": {
        "id": "ABABj-bOM6G9"
      },
      "source": [
        "### When feature space was reduced by half,\n",
        "\n",
        "* Logistic regression did not really suffer much in terms of time taken to fit or accuracy\n",
        "* TFIDF seemed to work better (slightly) than BOW, and this makes sense since TFIDF captures more information than BOW."
      ]
    },
    {
      "cell_type": "markdown",
      "metadata": {
        "id": "MxT5wc-WM6G9"
      },
      "source": [
        "# Word embedding methods"
      ]
    },
    {
      "cell_type": "markdown",
      "metadata": {
        "id": "qqFyB8Y_M6G9"
      },
      "source": [
        "Instead of using methods that vectorise the documents based on words, essentially treating words to be independent (as independent predictors), we try to capture some semantics and meanings of the words instead to see if we can improve the model."
      ]
    },
    {
      "cell_type": "markdown",
      "metadata": {
        "id": "kl76VIEnM6G9"
      },
      "source": [
        "## 1. Using pre-trained word embeddings\n",
        "\n",
        "We will try to use the GloVe model. GloVe was developed for generating word embeddings, and designed to get semantic relationships between words. Therefore in this space, words with similar meanings will tend to be closer in this new feature space."
      ]
    },
    {
      "cell_type": "code",
      "execution_count": 65,
      "metadata": {
        "execution": {
          "iopub.status.busy": "2023-10-09T14:21:37.409626Z",
          "iopub.status.idle": "2023-10-09T14:21:37.410012Z",
          "shell.execute_reply": "2023-10-09T14:21:37.409842Z",
          "shell.execute_reply.started": "2023-10-09T14:21:37.409821Z"
        },
        "trusted": true,
        "colab": {
          "base_uri": "https://localhost:8080/"
        },
        "id": "LEOW_zrqM6G9",
        "outputId": "2d87ecb3-c7c2-4227-fc8d-92cb076ee0ad"
      },
      "outputs": [
        {
          "output_type": "stream",
          "name": "stdout",
          "text": [
            "[==================================================] 100.0% 128.1/128.1MB downloaded\n"
          ]
        }
      ],
      "source": [
        "import gensim.downloader\n",
        "\n",
        "glove_model = gensim.downloader.load('glove-wiki-gigaword-100')\n",
        "\n"
      ]
    },
    {
      "cell_type": "code",
      "execution_count": 66,
      "metadata": {
        "execution": {
          "iopub.status.busy": "2023-10-09T14:21:37.412011Z",
          "iopub.status.idle": "2023-10-09T14:21:37.412585Z",
          "shell.execute_reply": "2023-10-09T14:21:37.412395Z",
          "shell.execute_reply.started": "2023-10-09T14:21:37.412368Z"
        },
        "trusted": true,
        "colab": {
          "base_uri": "https://localhost:8080/"
        },
        "id": "Zw5xbAfSM6G9",
        "outputId": "ead29a22-ffee-4376-a136-fa9d3d565092"
      },
      "outputs": [
        {
          "output_type": "stream",
          "name": "stdout",
          "text": [
            "Vector sizes are  100\n"
          ]
        }
      ],
      "source": [
        "## Check some stuff from glove\n",
        "print('Vector sizes are ', glove_model.vector_size) ## 100 dim for feature space -- just nice?\n"
      ]
    },
    {
      "cell_type": "markdown",
      "metadata": {
        "id": "t-BlLmyDM6G-"
      },
      "source": [
        "Our feature space is 100 dimensions -- when compared to the dimensions of BoW and TFIDF where we had chosen to include about 10k words (dimensions), this is considered small"
      ]
    },
    {
      "cell_type": "markdown",
      "metadata": {
        "id": "GheBwlbtM6G-"
      },
      "source": [
        "We can test this out by checking the cosine similarity (how similar two words are in the feature space)."
      ]
    },
    {
      "cell_type": "code",
      "execution_count": 67,
      "metadata": {
        "execution": {
          "iopub.status.busy": "2023-10-09T14:21:37.413864Z",
          "iopub.status.idle": "2023-10-09T14:21:37.414223Z",
          "shell.execute_reply": "2023-10-09T14:21:37.414069Z",
          "shell.execute_reply.started": "2023-10-09T14:21:37.414052Z"
        },
        "trusted": true,
        "colab": {
          "base_uri": "https://localhost:8080/"
        },
        "id": "YtTp8xzDM6G-",
        "outputId": "dacb482a-0e49-4640-8432-8acc7393d595"
      },
      "outputs": [
        {
          "output_type": "stream",
          "name": "stdout",
          "text": [
            "cosine sim between \"word\" and \"sentence\"  [0.4031449]\n",
            "cosine sim between \"word\" and \"potato\"  [0.2914069]\n"
          ]
        },
        {
          "output_type": "execute_result",
          "data": {
            "text/plain": [
              "array([0.5054469 , 0.4017795 , 0.04679427, 0.08940844], dtype=float32)"
            ]
          },
          "metadata": {},
          "execution_count": 67
        }
      ],
      "source": [
        "## Test it out -- get word vectors\n",
        "word_vec =glove_model['word']\n",
        "sent_vec =glove_model['sentence']\n",
        "\n",
        "## shape\n",
        "glove_model['word'].shape ## 100 column space that the words exist in\n",
        "\n",
        "## Test similarity\n",
        "print('cosine sim between \"word\" and \"sentence\" ', glove_model.cosine_similarities(word_vec, [sent_vec]))\n",
        "print('cosine sim between \"word\" and \"potato\" ', glove_model.cosine_similarities(word_vec, [glove_model['potato']]))\n",
        "\n",
        "## Test on multiple words\n",
        "glove_model.cosine_similarities(word_vec, [glove_model['potato'],\n",
        "                                          glove_model['car'],\n",
        "                                          glove_model['language']])\n",
        "\n",
        "## Test on the word banana\n",
        "glove_model.cosine_similarities(glove_model['banana'], [glove_model['apple'],\n",
        "                                                       glove_model['food'],\n",
        "                                                       glove_model['object'],\n",
        "                                                       glove_model['computers']])\n",
        "## result -- the words get less and less related\n",
        "\n"
      ]
    },
    {
      "cell_type": "code",
      "execution_count": 68,
      "metadata": {
        "execution": {
          "iopub.status.busy": "2023-10-09T14:21:37.415594Z",
          "iopub.status.idle": "2023-10-09T14:21:37.416112Z",
          "shell.execute_reply": "2023-10-09T14:21:37.415881Z",
          "shell.execute_reply.started": "2023-10-09T14:21:37.415857Z"
        },
        "trusted": true,
        "colab": {
          "base_uri": "https://localhost:8080/"
        },
        "id": "dBsvQA33M6G-",
        "outputId": "16aabc09-a961-40fc-896a-6328529d6a6f"
      },
      "outputs": [
        {
          "output_type": "stream",
          "name": "stdout",
          "text": [
            "<class 'dict'>\n",
            "Size of vocab  400.0  thousand\n"
          ]
        }
      ],
      "source": [
        "## Checking that word exists in the vocab\n",
        "glove_vocab = glove_model.key_to_index\n",
        "\n",
        "## Check type\n",
        "print(type(glove_vocab)) ## glove_vocab is a dictionary instead of a list\n",
        "\n",
        "## Get vocab size\n",
        "print('Size of vocab ', len(glove_vocab)/1000, ' thousand')\n",
        "\n",
        "## See some words\n",
        "list_of_keys = list(glove_vocab.keys())\n",
        "list_of_values = list(glove_vocab.values())\n"
      ]
    },
    {
      "cell_type": "code",
      "execution_count": 69,
      "metadata": {
        "execution": {
          "iopub.status.busy": "2023-10-09T14:21:37.417617Z",
          "iopub.status.idle": "2023-10-09T14:21:37.418132Z",
          "shell.execute_reply": "2023-10-09T14:21:37.4179Z",
          "shell.execute_reply.started": "2023-10-09T14:21:37.417876Z"
        },
        "trusted": true,
        "colab": {
          "base_uri": "https://localhost:8080/"
        },
        "id": "vF-2Cx2GM6G-",
        "outputId": "3ef5e384-6e15-4275-a22a-0a1b10c4cbc5"
      },
      "outputs": [
        {
          "output_type": "stream",
          "name": "stdout",
          "text": [
            "['the', ',', '.', 'of', 'to', 'and', 'in', 'a', '\"', \"'s\"]\n",
            "[0, 1, 2, 3, 4, 5, 6, 7, 8, 9]\n"
          ]
        }
      ],
      "source": [
        "## Take a peek at the keys and values of the vocab\n",
        "print(list_of_keys[0:10])\n",
        "print(list_of_values[0:10])"
      ]
    },
    {
      "cell_type": "markdown",
      "metadata": {
        "id": "VGTMNDk_M6G-"
      },
      "source": [
        "Interestingly, **punctuations also have embeddings**, as seen above. Let us take a closer look at those embeddings and find similar 'tokens' to the punctuations."
      ]
    },
    {
      "cell_type": "code",
      "execution_count": 70,
      "metadata": {
        "execution": {
          "iopub.status.busy": "2023-10-09T14:21:37.420082Z",
          "iopub.status.idle": "2023-10-09T14:21:37.420884Z",
          "shell.execute_reply": "2023-10-09T14:21:37.420609Z",
          "shell.execute_reply.started": "2023-10-09T14:21:37.420584Z"
        },
        "trusted": true,
        "colab": {
          "base_uri": "https://localhost:8080/"
        },
        "id": "KqB--ol2M6G-",
        "outputId": "af0ecf4a-7dfd-4f83-849b-36f66f5d0d22"
      },
      "outputs": [
        {
          "output_type": "stream",
          "name": "stdout",
          "text": [
            "Cos sim btn \",\" and \".\"  26.550135\n",
            "Cos sim btn \",\" and \"?\"  20.919863\n",
            "Cos sim btn \",\" and \"hello\"  4.4000187\n",
            "Cos sim btn \",\" and \"pause\"  5.9220767\n",
            "Cos sim btn \",\" and \"comma\"  5.9220767\n"
          ]
        }
      ],
      "source": [
        "import numpy as np\n",
        "\n",
        "## Word embedding for comma\n",
        "glove_model[',']\n",
        "## Cosine similarities btn punctuations\n",
        "print('Cos sim btn \",\" and \".\" ', np.dot(glove_model[','], glove_model['.']))\n",
        "print('Cos sim btn \",\" and \"?\" ', np.dot(glove_model[','], glove_model['?']))\n",
        "\n",
        "## Cosine similarities btn punctuations and words\n",
        "print('Cos sim btn \",\" and \"hello\" ', np.dot(glove_model[','], glove_model['hello']))\n",
        "print('Cos sim btn \",\" and \"pause\" ', np.dot(glove_model[','], glove_model['pause']))\n",
        "print('Cos sim btn \",\" and \"comma\" ', np.dot(glove_model[','], glove_model['pause']))"
      ]
    },
    {
      "cell_type": "code",
      "execution_count": 71,
      "metadata": {
        "execution": {
          "iopub.status.busy": "2023-10-09T14:21:37.422308Z",
          "iopub.status.idle": "2023-10-09T14:21:37.422832Z",
          "shell.execute_reply": "2023-10-09T14:21:37.422583Z",
          "shell.execute_reply.started": "2023-10-09T14:21:37.422559Z"
        },
        "trusted": true,
        "colab": {
          "base_uri": "https://localhost:8080/"
        },
        "id": "rWFs8yhdM6G-",
        "outputId": "4fe5ad25-211a-4055-f489-e3e8dec29493"
      },
      "outputs": [
        {
          "output_type": "execute_result",
          "data": {
            "text/plain": [
              "[('and', 0.8781740665435791),\n",
              " ('.', 0.8755987882614136),\n",
              " ('while', 0.8525034785270691),\n",
              " ('but', 0.8338185548782349),\n",
              " ('as', 0.8283949494361877),\n",
              " ('also', 0.8065630197525024),\n",
              " ('now', 0.8026498556137085),\n",
              " ('well', 0.8003395199775696),\n",
              " ('one', 0.7802436947822571),\n",
              " ('with', 0.779920220375061)]"
            ]
          },
          "metadata": {},
          "execution_count": 71
        }
      ],
      "source": [
        "## Most similar terms to comma\n",
        "glove_model.similar_by_word(\",\")"
      ]
    },
    {
      "cell_type": "markdown",
      "metadata": {
        "id": "pGFbd3NuM6G-"
      },
      "source": [
        "# Third feature engineering: use the average word embedding of the sentence from GloVe"
      ]
    },
    {
      "cell_type": "markdown",
      "metadata": {
        "id": "YzbvKtrWM6G-"
      },
      "source": [
        "First, we need to turn the texts into word vectors, since each text has multiple words. This would result in many vectors -- for simplicity, we will take the average of the vectors to result in a single vector for each text. This has some limitations, since it may 'dilute' the meaning of certain important words, but we will go ahead with this for now."
      ]
    },
    {
      "cell_type": "code",
      "execution_count": 72,
      "metadata": {
        "execution": {
          "iopub.status.busy": "2023-10-09T14:21:37.424547Z",
          "iopub.status.idle": "2023-10-09T14:21:37.425064Z",
          "shell.execute_reply": "2023-10-09T14:21:37.424832Z",
          "shell.execute_reply.started": "2023-10-09T14:21:37.424806Z"
        },
        "trusted": true,
        "id": "UnfAImZeM6G_"
      },
      "outputs": [],
      "source": [
        "def get_avg_embedding(text): ## Takes in a single text, instead of a list of texts\n",
        "    ## Tokenise first, get indiv words\n",
        "    words = text.split()\n",
        "\n",
        "    ## Get list of word vectors (this would result in many word vectors)\n",
        "    vectors = [glove_model[word] for word in words if word in glove_vocab] ## make sure that the word is covered by the model\n",
        "\n",
        "    ## Normalise the vectors for each word\n",
        "    normalised_vectors = [vector/np.linalg.norm(vector) for vector in vectors] if vectors else None ## If there was no vector in vectors, then return None\n",
        "\n",
        "    ## Take the average of all\n",
        "    avg_vector = sum(normalised_vectors)/len(normalised_vectors) if normalised_vectors else None\n",
        "\n",
        "    return(avg_vector)\n",
        "\n",
        "## Since we allowed for None in cases where there was no vector (this happens if\n",
        "# the text had no words that was recognised by the Glove Model), we should make sure\n",
        "# to check the list of avg embeddings to see if there are empty vectors"
      ]
    },
    {
      "cell_type": "code",
      "execution_count": 73,
      "metadata": {
        "execution": {
          "iopub.status.busy": "2023-10-09T14:21:37.426716Z",
          "iopub.status.idle": "2023-10-09T14:21:37.427242Z",
          "shell.execute_reply": "2023-10-09T14:21:37.427006Z",
          "shell.execute_reply.started": "2023-10-09T14:21:37.426982Z"
        },
        "trusted": true,
        "colab": {
          "base_uri": "https://localhost:8080/"
        },
        "id": "v1Jtdo5EM6G_",
        "outputId": "922492b9-4589-4e57-8d27-ed09f849ca40"
      },
      "outputs": [
        {
          "output_type": "stream",
          "name": "stdout",
          "text": [
            "Time taken to get avg embeddings, via list comprehension method 198.89277863502502\n"
          ]
        }
      ],
      "source": [
        "s = time.time()\n",
        "avg_embeddings_X = [get_avg_embedding(text) for text in preprocessed_texts]\n",
        "print('Time taken to get avg embeddings, via list comprehension method', time.time()- s)"
      ]
    },
    {
      "cell_type": "markdown",
      "metadata": {
        "id": "_q-FTCj7M6G_"
      },
      "source": [
        "This is essentially using a for loop in the list comprehension, which is very slow. A faster way would be to use a parallelised method, under the package 'pandarallel', that complements the Pandas framework. Let us see if it is faster."
      ]
    },
    {
      "cell_type": "code",
      "execution_count": 76,
      "metadata": {
        "execution": {
          "iopub.status.busy": "2023-10-09T14:21:37.431095Z",
          "iopub.status.idle": "2023-10-09T14:21:37.431441Z",
          "shell.execute_reply": "2023-10-09T14:21:37.431281Z",
          "shell.execute_reply.started": "2023-10-09T14:21:37.431266Z"
        },
        "trusted": true,
        "colab": {
          "base_uri": "https://localhost:8080/"
        },
        "id": "G9rW6lWfM6G_",
        "outputId": "931c6fe8-d600-4d32-b825-ef2d8cad8c59"
      },
      "outputs": [
        {
          "output_type": "stream",
          "name": "stdout",
          "text": [
            "Requirement already satisfied: pandarallel in /usr/local/lib/python3.10/dist-packages (1.6.5)\n",
            "Requirement already satisfied: dill>=0.3.1 in /usr/local/lib/python3.10/dist-packages (from pandarallel) (0.3.7)\n",
            "Requirement already satisfied: pandas>=1 in /usr/local/lib/python3.10/dist-packages (from pandarallel) (1.5.3)\n",
            "Requirement already satisfied: psutil in /usr/local/lib/python3.10/dist-packages (from pandarallel) (5.9.5)\n",
            "Requirement already satisfied: python-dateutil>=2.8.1 in /usr/local/lib/python3.10/dist-packages (from pandas>=1->pandarallel) (2.8.2)\n",
            "Requirement already satisfied: pytz>=2020.1 in /usr/local/lib/python3.10/dist-packages (from pandas>=1->pandarallel) (2023.3.post1)\n",
            "Requirement already satisfied: numpy>=1.21.0 in /usr/local/lib/python3.10/dist-packages (from pandas>=1->pandarallel) (1.23.5)\n",
            "Requirement already satisfied: six>=1.5 in /usr/local/lib/python3.10/dist-packages (from python-dateutil>=2.8.1->pandas>=1->pandarallel) (1.16.0)\n",
            "INFO: Pandarallel will run on 1 workers.\n",
            "INFO: Pandarallel will use Memory file system to transfer data between the main process and workers.\n"
          ]
        }
      ],
      "source": [
        "!pip install pandarallel\n",
        "from pandarallel import pandarallel\n",
        "\n",
        "pandarallel.initialize(progress_bar=True)"
      ]
    },
    {
      "cell_type": "code",
      "execution_count": 77,
      "metadata": {
        "execution": {
          "iopub.status.busy": "2023-10-09T14:21:37.434103Z",
          "iopub.status.idle": "2023-10-09T14:21:37.434695Z",
          "shell.execute_reply": "2023-10-09T14:21:37.434506Z",
          "shell.execute_reply.started": "2023-10-09T14:21:37.434478Z"
        },
        "trusted": true,
        "colab": {
          "base_uri": "https://localhost:8080/",
          "height": 67,
          "referenced_widgets": [
            "6855f1716c5d4a47a00881fe960df038",
            "66dbbe2f9dbc43ef87890491e1a3efe1",
            "e638fb0b21e24ff3b8188006a707633c",
            "1e28bfbe0d3d48f287d0633bd0611f3b",
            "cea6551b63b944feb174599311510c15",
            "cc8d8737b1174d6d81854350a528a66f",
            "1b258da03c23497ebe9cb8238039c4f2",
            "ba8edbdfd9104e09892569792db2dd1d",
            "35da884982f9453a978e3e2a2a6586bf",
            "1d4e45b292bf45818c9f80dc84c7ce9f"
          ]
        },
        "id": "Ip_XqywKM6G_",
        "outputId": "b7469ec9-7574-4e3b-bd56-1188c745bca2"
      },
      "outputs": [
        {
          "output_type": "display_data",
          "data": {
            "text/plain": [
              "VBox(children=(HBox(children=(IntProgress(value=0, description='0.00%', max=72134), Label(value='0 / 72134')))…"
            ],
            "application/vnd.jupyter.widget-view+json": {
              "version_major": 2,
              "version_minor": 0,
              "model_id": "6855f1716c5d4a47a00881fe960df038"
            }
          },
          "metadata": {}
        },
        {
          "output_type": "stream",
          "name": "stdout",
          "text": [
            "Time taken to get avg embeddings, via pandarallel method 249.62138104438782\n"
          ]
        }
      ],
      "source": [
        "s = time.time()\n",
        "data['avg_embeddings'] = data.Full_text_cleaned.parallel_apply(get_avg_embedding)\n",
        "time_for_pandarallel = time.time() - s\n",
        "print('Time taken to get avg embeddings, via pandarallel method', time_for_pandarallel)"
      ]
    },
    {
      "cell_type": "code",
      "execution_count": 78,
      "metadata": {
        "execution": {
          "iopub.status.busy": "2023-10-09T14:21:37.435825Z",
          "iopub.status.idle": "2023-10-09T14:21:37.436394Z",
          "shell.execute_reply": "2023-10-09T14:21:37.436211Z",
          "shell.execute_reply.started": "2023-10-09T14:21:37.436183Z"
        },
        "trusted": true,
        "colab": {
          "base_uri": "https://localhost:8080/"
        },
        "id": "ePlJyiDBM6G_",
        "outputId": "c90d5e10-c201-47a0-c2d9-04593dd6a685"
      },
      "outputs": [
        {
          "output_type": "stream",
          "name": "stdout",
          "text": [
            "Percentage decrease in time taken  -45.12870990952781  %\n"
          ]
        }
      ],
      "source": [
        "print('Percentage decrease in time taken ', (172 - time_for_pandarallel)/172 * 100, ' %')"
      ]
    },
    {
      "cell_type": "markdown",
      "metadata": {
        "id": "-FLWqhGTM6G_"
      },
      "source": [
        "Therefore pandarallel makes a significant reduction in time taken to get the average vector representation of the text."
      ]
    },
    {
      "cell_type": "markdown",
      "metadata": {
        "id": "tq26_-oyM6G_"
      },
      "source": [
        "Check results of the embedding process"
      ]
    },
    {
      "cell_type": "code",
      "execution_count": 79,
      "metadata": {
        "execution": {
          "iopub.status.busy": "2023-10-09T14:21:37.437668Z",
          "iopub.status.idle": "2023-10-09T14:21:37.438347Z",
          "shell.execute_reply": "2023-10-09T14:21:37.438163Z",
          "shell.execute_reply.started": "2023-10-09T14:21:37.438134Z"
        },
        "trusted": true,
        "colab": {
          "base_uri": "https://localhost:8080/"
        },
        "id": "wIzLWgUCM6G_",
        "outputId": "821cc0b0-6ddb-464d-9502-9b90a99175c1"
      },
      "outputs": [
        {
          "output_type": "stream",
          "name": "stdout",
          "text": [
            "<class 'list'>\n",
            "72134\n",
            "<class 'numpy.ndarray'>\n"
          ]
        },
        {
          "output_type": "execute_result",
          "data": {
            "text/plain": [
              "(100,)"
            ]
          },
          "metadata": {},
          "execution_count": 79
        }
      ],
      "source": [
        "print(type(avg_embeddings_X))\n",
        "print(len(avg_embeddings_X)) ## this is the number of documents\n",
        "\n",
        "## Look at one of the embeddings\n",
        "print(type(avg_embeddings_X[0])) ## List of np.arrays\n",
        "avg_embeddings_X[0].shape ## Each embedding has 100 length, as expected"
      ]
    },
    {
      "cell_type": "code",
      "execution_count": 80,
      "metadata": {
        "execution": {
          "iopub.status.busy": "2023-10-09T14:21:37.4395Z",
          "iopub.status.idle": "2023-10-09T14:21:37.440127Z",
          "shell.execute_reply": "2023-10-09T14:21:37.439954Z",
          "shell.execute_reply.started": "2023-10-09T14:21:37.439933Z"
        },
        "trusted": true,
        "colab": {
          "base_uri": "https://localhost:8080/"
        },
        "id": "vVAHv2ejM6HA",
        "outputId": "18dae0b3-2ef6-4480-d8f7-22850fc9f0d0"
      },
      "outputs": [
        {
          "output_type": "stream",
          "name": "stdout",
          "text": [
            "None\n",
            "None in DF  13\n",
            "None in list  13\n"
          ]
        }
      ],
      "source": [
        "## Check if any vector is empty or None\n",
        "\n",
        "## Recall that if the words in our text dont exist in the glove vocab, the function returns None\n",
        "## Test the function on some gibberish and see if it returns None\n",
        "print(get_avg_embedding(\"sdjfas fasdfjsdfsajfls\"))\n",
        "\n",
        "## Check if there are any None(s) in our result (from the df version)\n",
        "print(\"None in DF \", data.avg_embeddings.isna().sum())\n",
        "\n",
        "## Check again from the list version\n",
        "print(\"None in list \", sum(1 for vec in avg_embeddings_X if vec is None))"
      ]
    },
    {
      "cell_type": "markdown",
      "metadata": {
        "id": "V9y4CIHDM6HA"
      },
      "source": [
        "Turns out that there are missing vectors, possibly due to unrecgonised words. Let us take a closer look at them"
      ]
    },
    {
      "cell_type": "code",
      "execution_count": 81,
      "metadata": {
        "execution": {
          "iopub.status.busy": "2023-10-09T14:21:37.441694Z",
          "iopub.status.idle": "2023-10-09T14:21:37.442108Z",
          "shell.execute_reply": "2023-10-09T14:21:37.441948Z",
          "shell.execute_reply.started": "2023-10-09T14:21:37.44193Z"
        },
        "trusted": true,
        "colab": {
          "base_uri": "https://localhost:8080/",
          "height": 613
        },
        "id": "oD3fqxHZM6HA",
        "outputId": "0f4bb15a-68da-47f8-cc81-408047c6d079"
      },
      "outputs": [
        {
          "output_type": "execute_result",
          "data": {
            "text/plain": [
              "                                               Full_text Full_text_cleaned  \\\n",
              "795    https://fedup.wpengine.com/wp-content/uploads/...                     \n",
              "8909   https://fedup.wpengine.com/wp-content/uploads/...                     \n",
              "11943                                    In obamaland...         obamaland   \n",
              "14238  https://fedup.wpengine.com/wp-content/uploads/...                     \n",
              "26286  https://fedup.wpengine.com/wp-content/uploads/...                     \n",
              "27236  https://fedup.wpengine.com/wp-content/uploads/...                     \n",
              "31816                                                  🙂                     \n",
              "42774  https://100percentfedup.com/served-roy-moore-v...                     \n",
              "44862  https://100percentfedup.com/12-yr-old-black-co...                     \n",
              "52702  https://100percentfedup.com/video-hillary-aske...                     \n",
              "52971                                          Horseshit         horseshit   \n",
              "58710                                           baldegar          baldegar   \n",
              "68385  https://fedup.wpengine.com/wp-content/uploads/...                     \n",
              "\n",
              "       label avg_embeddings  \n",
              "795        1           None  \n",
              "8909       1           None  \n",
              "11943      1           None  \n",
              "14238      1           None  \n",
              "26286      1           None  \n",
              "27236      1           None  \n",
              "31816      1           None  \n",
              "42774      1           None  \n",
              "44862      1           None  \n",
              "52702      1           None  \n",
              "52971      1           None  \n",
              "58710      1           None  \n",
              "68385      1           None  "
            ],
            "text/html": [
              "\n",
              "  <div id=\"df-322b4a96-45fa-4b07-a259-89ec97050e33\" class=\"colab-df-container\">\n",
              "    <div>\n",
              "<style scoped>\n",
              "    .dataframe tbody tr th:only-of-type {\n",
              "        vertical-align: middle;\n",
              "    }\n",
              "\n",
              "    .dataframe tbody tr th {\n",
              "        vertical-align: top;\n",
              "    }\n",
              "\n",
              "    .dataframe thead th {\n",
              "        text-align: right;\n",
              "    }\n",
              "</style>\n",
              "<table border=\"1\" class=\"dataframe\">\n",
              "  <thead>\n",
              "    <tr style=\"text-align: right;\">\n",
              "      <th></th>\n",
              "      <th>Full_text</th>\n",
              "      <th>Full_text_cleaned</th>\n",
              "      <th>label</th>\n",
              "      <th>avg_embeddings</th>\n",
              "    </tr>\n",
              "  </thead>\n",
              "  <tbody>\n",
              "    <tr>\n",
              "      <th>795</th>\n",
              "      <td>https://fedup.wpengine.com/wp-content/uploads/...</td>\n",
              "      <td></td>\n",
              "      <td>1</td>\n",
              "      <td>None</td>\n",
              "    </tr>\n",
              "    <tr>\n",
              "      <th>8909</th>\n",
              "      <td>https://fedup.wpengine.com/wp-content/uploads/...</td>\n",
              "      <td></td>\n",
              "      <td>1</td>\n",
              "      <td>None</td>\n",
              "    </tr>\n",
              "    <tr>\n",
              "      <th>11943</th>\n",
              "      <td>In obamaland...</td>\n",
              "      <td>obamaland</td>\n",
              "      <td>1</td>\n",
              "      <td>None</td>\n",
              "    </tr>\n",
              "    <tr>\n",
              "      <th>14238</th>\n",
              "      <td>https://fedup.wpengine.com/wp-content/uploads/...</td>\n",
              "      <td></td>\n",
              "      <td>1</td>\n",
              "      <td>None</td>\n",
              "    </tr>\n",
              "    <tr>\n",
              "      <th>26286</th>\n",
              "      <td>https://fedup.wpengine.com/wp-content/uploads/...</td>\n",
              "      <td></td>\n",
              "      <td>1</td>\n",
              "      <td>None</td>\n",
              "    </tr>\n",
              "    <tr>\n",
              "      <th>27236</th>\n",
              "      <td>https://fedup.wpengine.com/wp-content/uploads/...</td>\n",
              "      <td></td>\n",
              "      <td>1</td>\n",
              "      <td>None</td>\n",
              "    </tr>\n",
              "    <tr>\n",
              "      <th>31816</th>\n",
              "      <td>🙂</td>\n",
              "      <td></td>\n",
              "      <td>1</td>\n",
              "      <td>None</td>\n",
              "    </tr>\n",
              "    <tr>\n",
              "      <th>42774</th>\n",
              "      <td>https://100percentfedup.com/served-roy-moore-v...</td>\n",
              "      <td></td>\n",
              "      <td>1</td>\n",
              "      <td>None</td>\n",
              "    </tr>\n",
              "    <tr>\n",
              "      <th>44862</th>\n",
              "      <td>https://100percentfedup.com/12-yr-old-black-co...</td>\n",
              "      <td></td>\n",
              "      <td>1</td>\n",
              "      <td>None</td>\n",
              "    </tr>\n",
              "    <tr>\n",
              "      <th>52702</th>\n",
              "      <td>https://100percentfedup.com/video-hillary-aske...</td>\n",
              "      <td></td>\n",
              "      <td>1</td>\n",
              "      <td>None</td>\n",
              "    </tr>\n",
              "    <tr>\n",
              "      <th>52971</th>\n",
              "      <td>Horseshit</td>\n",
              "      <td>horseshit</td>\n",
              "      <td>1</td>\n",
              "      <td>None</td>\n",
              "    </tr>\n",
              "    <tr>\n",
              "      <th>58710</th>\n",
              "      <td>baldegar</td>\n",
              "      <td>baldegar</td>\n",
              "      <td>1</td>\n",
              "      <td>None</td>\n",
              "    </tr>\n",
              "    <tr>\n",
              "      <th>68385</th>\n",
              "      <td>https://fedup.wpengine.com/wp-content/uploads/...</td>\n",
              "      <td></td>\n",
              "      <td>1</td>\n",
              "      <td>None</td>\n",
              "    </tr>\n",
              "  </tbody>\n",
              "</table>\n",
              "</div>\n",
              "    <div class=\"colab-df-buttons\">\n",
              "\n",
              "  <div class=\"colab-df-container\">\n",
              "    <button class=\"colab-df-convert\" onclick=\"convertToInteractive('df-322b4a96-45fa-4b07-a259-89ec97050e33')\"\n",
              "            title=\"Convert this dataframe to an interactive table.\"\n",
              "            style=\"display:none;\">\n",
              "\n",
              "  <svg xmlns=\"http://www.w3.org/2000/svg\" height=\"24px\" viewBox=\"0 -960 960 960\">\n",
              "    <path d=\"M120-120v-720h720v720H120Zm60-500h600v-160H180v160Zm220 220h160v-160H400v160Zm0 220h160v-160H400v160ZM180-400h160v-160H180v160Zm440 0h160v-160H620v160ZM180-180h160v-160H180v160Zm440 0h160v-160H620v160Z\"/>\n",
              "  </svg>\n",
              "    </button>\n",
              "\n",
              "  <style>\n",
              "    .colab-df-container {\n",
              "      display:flex;\n",
              "      gap: 12px;\n",
              "    }\n",
              "\n",
              "    .colab-df-convert {\n",
              "      background-color: #E8F0FE;\n",
              "      border: none;\n",
              "      border-radius: 50%;\n",
              "      cursor: pointer;\n",
              "      display: none;\n",
              "      fill: #1967D2;\n",
              "      height: 32px;\n",
              "      padding: 0 0 0 0;\n",
              "      width: 32px;\n",
              "    }\n",
              "\n",
              "    .colab-df-convert:hover {\n",
              "      background-color: #E2EBFA;\n",
              "      box-shadow: 0px 1px 2px rgba(60, 64, 67, 0.3), 0px 1px 3px 1px rgba(60, 64, 67, 0.15);\n",
              "      fill: #174EA6;\n",
              "    }\n",
              "\n",
              "    .colab-df-buttons div {\n",
              "      margin-bottom: 4px;\n",
              "    }\n",
              "\n",
              "    [theme=dark] .colab-df-convert {\n",
              "      background-color: #3B4455;\n",
              "      fill: #D2E3FC;\n",
              "    }\n",
              "\n",
              "    [theme=dark] .colab-df-convert:hover {\n",
              "      background-color: #434B5C;\n",
              "      box-shadow: 0px 1px 3px 1px rgba(0, 0, 0, 0.15);\n",
              "      filter: drop-shadow(0px 1px 2px rgba(0, 0, 0, 0.3));\n",
              "      fill: #FFFFFF;\n",
              "    }\n",
              "  </style>\n",
              "\n",
              "    <script>\n",
              "      const buttonEl =\n",
              "        document.querySelector('#df-322b4a96-45fa-4b07-a259-89ec97050e33 button.colab-df-convert');\n",
              "      buttonEl.style.display =\n",
              "        google.colab.kernel.accessAllowed ? 'block' : 'none';\n",
              "\n",
              "      async function convertToInteractive(key) {\n",
              "        const element = document.querySelector('#df-322b4a96-45fa-4b07-a259-89ec97050e33');\n",
              "        const dataTable =\n",
              "          await google.colab.kernel.invokeFunction('convertToInteractive',\n",
              "                                                    [key], {});\n",
              "        if (!dataTable) return;\n",
              "\n",
              "        const docLinkHtml = 'Like what you see? Visit the ' +\n",
              "          '<a target=\"_blank\" href=https://colab.research.google.com/notebooks/data_table.ipynb>data table notebook</a>'\n",
              "          + ' to learn more about interactive tables.';\n",
              "        element.innerHTML = '';\n",
              "        dataTable['output_type'] = 'display_data';\n",
              "        await google.colab.output.renderOutput(dataTable, element);\n",
              "        const docLink = document.createElement('div');\n",
              "        docLink.innerHTML = docLinkHtml;\n",
              "        element.appendChild(docLink);\n",
              "      }\n",
              "    </script>\n",
              "  </div>\n",
              "\n",
              "\n",
              "<div id=\"df-d70db182-8b11-4f68-ae97-8830000b71be\">\n",
              "  <button class=\"colab-df-quickchart\" onclick=\"quickchart('df-d70db182-8b11-4f68-ae97-8830000b71be')\"\n",
              "            title=\"Suggest charts.\"\n",
              "            style=\"display:none;\">\n",
              "\n",
              "<svg xmlns=\"http://www.w3.org/2000/svg\" height=\"24px\"viewBox=\"0 0 24 24\"\n",
              "     width=\"24px\">\n",
              "    <g>\n",
              "        <path d=\"M19 3H5c-1.1 0-2 .9-2 2v14c0 1.1.9 2 2 2h14c1.1 0 2-.9 2-2V5c0-1.1-.9-2-2-2zM9 17H7v-7h2v7zm4 0h-2V7h2v10zm4 0h-2v-4h2v4z\"/>\n",
              "    </g>\n",
              "</svg>\n",
              "  </button>\n",
              "\n",
              "<style>\n",
              "  .colab-df-quickchart {\n",
              "      --bg-color: #E8F0FE;\n",
              "      --fill-color: #1967D2;\n",
              "      --hover-bg-color: #E2EBFA;\n",
              "      --hover-fill-color: #174EA6;\n",
              "      --disabled-fill-color: #AAA;\n",
              "      --disabled-bg-color: #DDD;\n",
              "  }\n",
              "\n",
              "  [theme=dark] .colab-df-quickchart {\n",
              "      --bg-color: #3B4455;\n",
              "      --fill-color: #D2E3FC;\n",
              "      --hover-bg-color: #434B5C;\n",
              "      --hover-fill-color: #FFFFFF;\n",
              "      --disabled-bg-color: #3B4455;\n",
              "      --disabled-fill-color: #666;\n",
              "  }\n",
              "\n",
              "  .colab-df-quickchart {\n",
              "    background-color: var(--bg-color);\n",
              "    border: none;\n",
              "    border-radius: 50%;\n",
              "    cursor: pointer;\n",
              "    display: none;\n",
              "    fill: var(--fill-color);\n",
              "    height: 32px;\n",
              "    padding: 0;\n",
              "    width: 32px;\n",
              "  }\n",
              "\n",
              "  .colab-df-quickchart:hover {\n",
              "    background-color: var(--hover-bg-color);\n",
              "    box-shadow: 0 1px 2px rgba(60, 64, 67, 0.3), 0 1px 3px 1px rgba(60, 64, 67, 0.15);\n",
              "    fill: var(--button-hover-fill-color);\n",
              "  }\n",
              "\n",
              "  .colab-df-quickchart-complete:disabled,\n",
              "  .colab-df-quickchart-complete:disabled:hover {\n",
              "    background-color: var(--disabled-bg-color);\n",
              "    fill: var(--disabled-fill-color);\n",
              "    box-shadow: none;\n",
              "  }\n",
              "\n",
              "  .colab-df-spinner {\n",
              "    border: 2px solid var(--fill-color);\n",
              "    border-color: transparent;\n",
              "    border-bottom-color: var(--fill-color);\n",
              "    animation:\n",
              "      spin 1s steps(1) infinite;\n",
              "  }\n",
              "\n",
              "  @keyframes spin {\n",
              "    0% {\n",
              "      border-color: transparent;\n",
              "      border-bottom-color: var(--fill-color);\n",
              "      border-left-color: var(--fill-color);\n",
              "    }\n",
              "    20% {\n",
              "      border-color: transparent;\n",
              "      border-left-color: var(--fill-color);\n",
              "      border-top-color: var(--fill-color);\n",
              "    }\n",
              "    30% {\n",
              "      border-color: transparent;\n",
              "      border-left-color: var(--fill-color);\n",
              "      border-top-color: var(--fill-color);\n",
              "      border-right-color: var(--fill-color);\n",
              "    }\n",
              "    40% {\n",
              "      border-color: transparent;\n",
              "      border-right-color: var(--fill-color);\n",
              "      border-top-color: var(--fill-color);\n",
              "    }\n",
              "    60% {\n",
              "      border-color: transparent;\n",
              "      border-right-color: var(--fill-color);\n",
              "    }\n",
              "    80% {\n",
              "      border-color: transparent;\n",
              "      border-right-color: var(--fill-color);\n",
              "      border-bottom-color: var(--fill-color);\n",
              "    }\n",
              "    90% {\n",
              "      border-color: transparent;\n",
              "      border-bottom-color: var(--fill-color);\n",
              "    }\n",
              "  }\n",
              "</style>\n",
              "\n",
              "  <script>\n",
              "    async function quickchart(key) {\n",
              "      const quickchartButtonEl =\n",
              "        document.querySelector('#' + key + ' button');\n",
              "      quickchartButtonEl.disabled = true;  // To prevent multiple clicks.\n",
              "      quickchartButtonEl.classList.add('colab-df-spinner');\n",
              "      try {\n",
              "        const charts = await google.colab.kernel.invokeFunction(\n",
              "            'suggestCharts', [key], {});\n",
              "      } catch (error) {\n",
              "        console.error('Error during call to suggestCharts:', error);\n",
              "      }\n",
              "      quickchartButtonEl.classList.remove('colab-df-spinner');\n",
              "      quickchartButtonEl.classList.add('colab-df-quickchart-complete');\n",
              "    }\n",
              "    (() => {\n",
              "      let quickchartButtonEl =\n",
              "        document.querySelector('#df-d70db182-8b11-4f68-ae97-8830000b71be button');\n",
              "      quickchartButtonEl.style.display =\n",
              "        google.colab.kernel.accessAllowed ? 'block' : 'none';\n",
              "    })();\n",
              "  </script>\n",
              "</div>\n",
              "    </div>\n",
              "  </div>\n"
            ]
          },
          "metadata": {},
          "execution_count": 81
        }
      ],
      "source": [
        "data[data.avg_embeddings.isna()][['Full_text', 'Full_text_cleaned', 'label', 'avg_embeddings']]"
      ]
    },
    {
      "cell_type": "markdown",
      "metadata": {
        "id": "7R9WQ0_jM6HA"
      },
      "source": [
        "We see that they are either empty since they were URL links that have been cleared by the preprocessing phase (e.g. removing non alphanumeric terms, removing stopwords) or just trivial one word cases. We can remove them"
      ]
    },
    {
      "cell_type": "code",
      "execution_count": 82,
      "metadata": {
        "execution": {
          "iopub.status.busy": "2023-10-09T14:21:37.443495Z",
          "iopub.status.idle": "2023-10-09T14:21:37.443932Z",
          "shell.execute_reply": "2023-10-09T14:21:37.443717Z",
          "shell.execute_reply.started": "2023-10-09T14:21:37.443699Z"
        },
        "trusted": true,
        "colab": {
          "base_uri": "https://localhost:8080/"
        },
        "id": "ICUt8SL2M6HA",
        "outputId": "8dd401eb-0ef2-479c-832d-eb5f5dd6b193"
      },
      "outputs": [
        {
          "output_type": "stream",
          "name": "stdout",
          "text": [
            "(72134, 6)\n",
            "(72121, 6)\n",
            "                                               title  \\\n",
            "0  LAW ENFORCEMENT ON HIGH ALERT Following Threat...   \n",
            "1                                                      \n",
            "2  UNBELIEVABLE! OBAMA’S ATTORNEY GENERAL SAYS MO...   \n",
            "3  Bobby Jindal, raised Hindu, uses story of Chri...   \n",
            "4  SATAN 2: Russia unvelis an image of its terrif...   \n",
            "\n",
            "                                                text  label  \\\n",
            "0  No comment is expected from Barack Obama Membe...      1   \n",
            "1     Did they post their votes for Hillary already?      1   \n",
            "2   Now, most of the demonstrators gathered last ...      1   \n",
            "3  A dozen politically active pastors came here f...      0   \n",
            "4  The RS-28 Sarmat missile, dubbed Satan 2, will...      1   \n",
            "\n",
            "                                           Full_text  \\\n",
            "0  LAW ENFORCEMENT ON HIGH ALERT Following Threat...   \n",
            "1     Did they post their votes for Hillary already?   \n",
            "2  UNBELIEVABLE! OBAMA’S ATTORNEY GENERAL SAYS MO...   \n",
            "3  Bobby Jindal, raised Hindu, uses story of Chri...   \n",
            "4  SATAN 2: Russia unvelis an image of its terrif...   \n",
            "\n",
            "                                   Full_text_cleaned  \\\n",
            "0  law enforcement high alert following threats c...   \n",
            "1                         post votes hillary already   \n",
            "2  unbelievable obama attorney general says charl...   \n",
            "3  bobby jindal raised hindu uses story christian...   \n",
            "4  satan russia unvelis image terrifying new supe...   \n",
            "\n",
            "                                      avg_embeddings  \n",
            "0  [-0.0035522666, 0.017193442, 0.03443514, -0.05...  \n",
            "1  [-0.05424866, 0.061816186, 0.076831594, -0.047...  \n",
            "2  [0.00246846, -0.011471947, 0.025755865, -0.034...  \n",
            "3  [0.0037696701, 0.03747781, 0.009596259, -0.039...  \n",
            "4  [-0.02298912, 0.023229027, 0.06078896, -0.0037...  \n"
          ]
        }
      ],
      "source": [
        "## Drop NAs/ Nones\n",
        "print(data.shape)\n",
        "print(data.dropna(subset = ['avg_embeddings']).shape) ## 13 removed\n",
        "\n",
        "## Drop\n",
        "data_no_nas = data.dropna(subset = ['avg_embeddings'])\n",
        "\n",
        "## Check\n",
        "print(data_no_nas.head())"
      ]
    },
    {
      "cell_type": "markdown",
      "metadata": {
        "id": "7kIzII0qM6HA"
      },
      "source": [
        "## Repeat modelling workflow : train test split and fitting on the new X vector embeddings data"
      ]
    },
    {
      "cell_type": "code",
      "execution_count": 83,
      "metadata": {
        "execution": {
          "iopub.status.busy": "2023-10-09T14:21:37.445275Z",
          "iopub.status.idle": "2023-10-09T14:21:37.445652Z",
          "shell.execute_reply": "2023-10-09T14:21:37.445495Z",
          "shell.execute_reply.started": "2023-10-09T14:21:37.445477Z"
        },
        "trusted": true,
        "colab": {
          "base_uri": "https://localhost:8080/"
        },
        "id": "M_KvgarSM6HA",
        "outputId": "e89e3a45-a395-436c-e712-56343ddcb4ad"
      },
      "outputs": [
        {
          "output_type": "stream",
          "name": "stdout",
          "text": [
            "<class 'list'>\n",
            "<class 'pandas.core.series.Series'>\n"
          ]
        }
      ],
      "source": [
        "from sklearn.model_selection import train_test_split\n",
        "from sklearn.linear_model import LogisticRegression\n",
        "from sklearn.svm import LinearSVC\n",
        "from sklearn.ensemble import RandomForestClassifier\n",
        "from sklearn.metrics import classification_report\n",
        "\n",
        "## Rmb to use the data without nas, so that there is no inconsistency in the set of X vectors\n",
        "X = data_no_nas.avg_embeddings.to_list()\n",
        "\n",
        "y = data_no_nas['label']\n",
        "## Same train test split\n",
        "X_train, X_test, y_train, y_test = train_test_split(X, y, test_size=0.2, random_state=42)\n",
        "\n",
        "## Check if the data is prepared correctly/ in the right format\n",
        "print(type(X_train)) ## this is a list -- need to convert to np array\n",
        "print(type(y_train))"
      ]
    },
    {
      "cell_type": "markdown",
      "metadata": {
        "id": "F3vuj77EM6HA"
      },
      "source": [
        "Currently, our X data is in the form of list of lists. In order to feed into the sklearn algorithms, we need to first convert it to 2D np arrays."
      ]
    },
    {
      "cell_type": "code",
      "execution_count": 84,
      "metadata": {
        "execution": {
          "iopub.status.busy": "2023-10-09T14:21:37.448008Z",
          "iopub.status.idle": "2023-10-09T14:21:37.44896Z",
          "shell.execute_reply": "2023-10-09T14:21:37.44873Z",
          "shell.execute_reply.started": "2023-10-09T14:21:37.448698Z"
        },
        "trusted": true,
        "colab": {
          "base_uri": "https://localhost:8080/"
        },
        "id": "tNJi6noQM6HA",
        "outputId": "5079d6a8-b0ac-4c29-f5a7-49488e42343c"
      },
      "outputs": [
        {
          "output_type": "stream",
          "name": "stdout",
          "text": [
            "57696\n",
            "(57696, 100)\n",
            "(14425, 100)\n"
          ]
        }
      ],
      "source": [
        "print(len(X_train))\n",
        "\n",
        "## Convert to 2D np arrays\n",
        "X_train = np.array(X_train)\n",
        "X_test = np.array(X_test)\n",
        "\n",
        "## Check shape\n",
        "print(X_train.shape)\n",
        "print(X_test.shape) ## our data is now in 2D arrays, so it is okay"
      ]
    },
    {
      "cell_type": "code",
      "execution_count": 85,
      "metadata": {
        "execution": {
          "iopub.status.busy": "2023-10-09T14:21:37.450458Z",
          "iopub.status.idle": "2023-10-09T14:21:37.450883Z",
          "shell.execute_reply": "2023-10-09T14:21:37.450681Z",
          "shell.execute_reply.started": "2023-10-09T14:21:37.450664Z"
        },
        "trusted": true,
        "colab": {
          "base_uri": "https://localhost:8080/"
        },
        "id": "cVjj1ZTCM6HA",
        "outputId": "0b980af3-b5dc-4c96-b9f3-50d066c3e04e"
      },
      "outputs": [
        {
          "output_type": "stream",
          "name": "stdout",
          "text": [
            "Time to fit logistic regression: 0.6580338478088379\n",
            "Time to fit SVM linear: 2.5585014820098877\n",
            "Time to fit Random Forest: 87.30173254013062\n"
          ]
        }
      ],
      "source": [
        "# 1. Log Reg\n",
        "s = time.time()\n",
        "log_clf = LogisticRegression(max_iter=1000)\n",
        "log_clf.fit(X_train, y_train)\n",
        "time_for_logreg_glove = time.time() - s\n",
        "print(\"Time to fit logistic regression:\", time_for_logreg_glove)\n",
        "\n",
        "# 2. SVM Linear\n",
        "s = time.time()\n",
        "svm_linear_clf = LinearSVC(max_iter=1000)\n",
        "svm_linear_clf.fit(X_train, y_train)\n",
        "time_for_linear_svm_glove = time.time() - s\n",
        "print(\"Time to fit SVM linear:\", time_for_linear_svm_glove)\n",
        "\n",
        "\n",
        "# Random Forest\n",
        "s = time.time()\n",
        "rf_clf = RandomForestClassifier()\n",
        "rf_clf.fit(X_train, y_train)\n",
        "time_for_untuned_rf_glove = time.time() - s\n",
        "print(\"Time to fit Random Forest:\", time_for_untuned_rf_glove)"
      ]
    },
    {
      "cell_type": "markdown",
      "metadata": {
        "id": "0CYgpvfNM6HB"
      },
      "source": [
        "This is a significant improvement over some of the previous methods. This is possibly due to the smaller predictor space"
      ]
    },
    {
      "cell_type": "code",
      "execution_count": 86,
      "metadata": {
        "execution": {
          "iopub.status.busy": "2023-10-09T14:21:37.452309Z",
          "iopub.status.idle": "2023-10-09T14:21:37.452688Z",
          "shell.execute_reply": "2023-10-09T14:21:37.452528Z",
          "shell.execute_reply.started": "2023-10-09T14:21:37.452511Z"
        },
        "trusted": true,
        "colab": {
          "base_uri": "https://localhost:8080/"
        },
        "id": "O3vuwDENM6HB",
        "outputId": "23c7187b-f9f4-40db-9228-b93a2b8c8a86"
      },
      "outputs": [
        {
          "output_type": "stream",
          "name": "stdout",
          "text": [
            "              precision    recall  f1-score   support\n",
            "\n",
            "           0       0.83      0.85      0.84      6882\n",
            "           1       0.86      0.84      0.85      7543\n",
            "\n",
            "    accuracy                           0.84     14425\n",
            "   macro avg       0.84      0.84      0.84     14425\n",
            "weighted avg       0.84      0.84      0.84     14425\n",
            "\n",
            "              precision    recall  f1-score   support\n",
            "\n",
            "           0       0.84      0.85      0.85      6958\n",
            "           1       0.86      0.85      0.86      7467\n",
            "\n",
            "    accuracy                           0.85     14425\n",
            "   macro avg       0.85      0.85      0.85     14425\n",
            "weighted avg       0.85      0.85      0.85     14425\n",
            "\n",
            "              precision    recall  f1-score   support\n",
            "\n",
            "           0       0.85      0.91      0.88      6581\n",
            "           1       0.92      0.86      0.89      7844\n",
            "\n",
            "    accuracy                           0.88     14425\n",
            "   macro avg       0.88      0.89      0.88     14425\n",
            "weighted avg       0.89      0.88      0.88     14425\n",
            "\n"
          ]
        }
      ],
      "source": [
        "## Model evaluations\n",
        "print(classification_report(log_clf.predict(X_test), y_test))\n",
        "print(classification_report(svm_linear_clf.predict(X_test), y_test))\n",
        "print(classification_report(rf_clf.predict(X_test), y_test))"
      ]
    },
    {
      "cell_type": "markdown",
      "metadata": {
        "id": "IW1rUVpjM6HB"
      },
      "source": [
        "## Results of GloVe representations"
      ]
    },
    {
      "cell_type": "markdown",
      "metadata": {
        "id": "uvJWQjTZM6HB"
      },
      "source": [
        "Although much faster to fit the models, we suffer quite a bit in terms of accuracy scores.\n",
        "\n",
        "### Nature of representation\n",
        "\n",
        "While BoW and TFIDF capture the occurance of words independently, the glove method we used essentially took the 'center' of the word embedded vectors of each text, since we took their average. This might end up cancelling out some of the meaning of the words, losing out on granularity. It is also possible that some of the words, which were crucial in determining the outcome of the text in being real or false news, were not in the vocabulary of the glove model and thus not factored into the data, which will cause a loss of importasnt information."
      ]
    },
    {
      "cell_type": "markdown",
      "metadata": {
        "id": "C4pXarU8M6HB"
      },
      "source": [
        "# Converting text to sequences with Keras, with embedding layer in the neural network"
      ]
    },
    {
      "cell_type": "markdown",
      "metadata": {
        "id": "pRpb4srfM6HB"
      },
      "source": [
        "How it works\n",
        "\n",
        "* integer encoding: the text_to_sequences method converts texts to integers based on the vocabulary of the corpus.\n",
        "\n",
        "* we then have a **sequence of integers** (text to sequences), since models cannot understand words but only numbers\n",
        "\n",
        "* we pad each vector such that there is a consistent number of integers\n",
        "\n",
        "* the first layer of the neural network will be the embedding layer, which is a special kind of layer that *looks up each integer (word index) and maps it to a dense vector*, which is the semantic representation, same as the one we used with GloVe.\n",
        "\n",
        "* then we connect to a fully connected layer, where the last layer will be a single neuron with a sigmoid activation function - since we are making a binary classification"
      ]
    },
    {
      "cell_type": "code",
      "execution_count": 87,
      "metadata": {
        "execution": {
          "iopub.status.busy": "2023-10-09T14:21:37.456855Z",
          "iopub.status.idle": "2023-10-09T14:21:37.457246Z",
          "shell.execute_reply": "2023-10-09T14:21:37.457089Z",
          "shell.execute_reply.started": "2023-10-09T14:21:37.457071Z"
        },
        "trusted": true,
        "id": "Fg-V7L9-M6HB"
      },
      "outputs": [],
      "source": [
        "from keras.preprocessing.text import Tokenizer\n",
        "from keras.preprocessing.sequence import pad_sequences"
      ]
    },
    {
      "cell_type": "code",
      "execution_count": 88,
      "metadata": {
        "execution": {
          "iopub.status.busy": "2023-10-09T14:21:37.459108Z",
          "iopub.status.idle": "2023-10-09T14:21:37.459712Z",
          "shell.execute_reply": "2023-10-09T14:21:37.459546Z",
          "shell.execute_reply.started": "2023-10-09T14:21:37.45952Z"
        },
        "trusted": true,
        "id": "4-oJ5dnJM6HB"
      },
      "outputs": [],
      "source": [
        "## Instantiate the keras tokenizer\n",
        "\n",
        "tokenizer = Tokenizer(num_words=10000, oov_token = '<00v>') ## this is for out of vocab\n",
        "## terms -- therefore when testing, if the model sees a word that has not been trained,\n",
        "## it will map it to 1 instead of removing the term"
      ]
    },
    {
      "cell_type": "code",
      "execution_count": 89,
      "metadata": {
        "execution": {
          "iopub.status.busy": "2023-10-09T14:21:37.46082Z",
          "iopub.status.idle": "2023-10-09T14:21:37.461402Z",
          "shell.execute_reply": "2023-10-09T14:21:37.461231Z",
          "shell.execute_reply.started": "2023-10-09T14:21:37.461204Z"
        },
        "trusted": true,
        "id": "E_RjtlF9M6HB"
      },
      "outputs": [],
      "source": [
        "## Fit the tokenizer to the corpus\n",
        "tokenizer.fit_on_texts(data.Full_text_cleaned) ## use fit on texts method as we have a series or list of texts\n",
        "word_index = tokenizer.word_index"
      ]
    },
    {
      "cell_type": "markdown",
      "metadata": {
        "id": "zAaLrpSvM6HB"
      },
      "source": [
        "From this [stackoverflow answer](http://https://stackoverflow.com/questions/51956000/what-does-keras-tokenizer-method-exactly-do), the fit on text method updates the internal vocab based on a list of texts, creating a vocab index based on word frequency, then the texts to sequences transforms each text in texts to a sequence of inters."
      ]
    }
  ],
  "metadata": {
    "kernelspec": {
      "display_name": "Python 3",
      "language": "python",
      "name": "python3"
    },
    "language_info": {
      "codemirror_mode": {
        "name": "ipython",
        "version": 3
      },
      "file_extension": ".py",
      "mimetype": "text/x-python",
      "name": "python",
      "nbconvert_exporter": "python",
      "pygments_lexer": "ipython3",
      "version": "3.11.5"
    },
    "colab": {
      "provenance": []
    },
    "widgets": {
      "application/vnd.jupyter.widget-state+json": {
        "6855f1716c5d4a47a00881fe960df038": {
          "model_module": "@jupyter-widgets/controls",
          "model_name": "VBoxModel",
          "model_module_version": "1.5.0",
          "state": {
            "_dom_classes": [],
            "_model_module": "@jupyter-widgets/controls",
            "_model_module_version": "1.5.0",
            "_model_name": "VBoxModel",
            "_view_count": null,
            "_view_module": "@jupyter-widgets/controls",
            "_view_module_version": "1.5.0",
            "_view_name": "VBoxView",
            "box_style": "",
            "children": [
              "IPY_MODEL_66dbbe2f9dbc43ef87890491e1a3efe1"
            ],
            "layout": "IPY_MODEL_e638fb0b21e24ff3b8188006a707633c"
          }
        },
        "66dbbe2f9dbc43ef87890491e1a3efe1": {
          "model_module": "@jupyter-widgets/controls",
          "model_name": "HBoxModel",
          "model_module_version": "1.5.0",
          "state": {
            "_dom_classes": [],
            "_model_module": "@jupyter-widgets/controls",
            "_model_module_version": "1.5.0",
            "_model_name": "HBoxModel",
            "_view_count": null,
            "_view_module": "@jupyter-widgets/controls",
            "_view_module_version": "1.5.0",
            "_view_name": "HBoxView",
            "box_style": "",
            "children": [
              "IPY_MODEL_1e28bfbe0d3d48f287d0633bd0611f3b",
              "IPY_MODEL_cea6551b63b944feb174599311510c15"
            ],
            "layout": "IPY_MODEL_cc8d8737b1174d6d81854350a528a66f"
          }
        },
        "e638fb0b21e24ff3b8188006a707633c": {
          "model_module": "@jupyter-widgets/base",
          "model_name": "LayoutModel",
          "model_module_version": "1.2.0",
          "state": {
            "_model_module": "@jupyter-widgets/base",
            "_model_module_version": "1.2.0",
            "_model_name": "LayoutModel",
            "_view_count": null,
            "_view_module": "@jupyter-widgets/base",
            "_view_module_version": "1.2.0",
            "_view_name": "LayoutView",
            "align_content": null,
            "align_items": null,
            "align_self": null,
            "border": null,
            "bottom": null,
            "display": null,
            "flex": null,
            "flex_flow": null,
            "grid_area": null,
            "grid_auto_columns": null,
            "grid_auto_flow": null,
            "grid_auto_rows": null,
            "grid_column": null,
            "grid_gap": null,
            "grid_row": null,
            "grid_template_areas": null,
            "grid_template_columns": null,
            "grid_template_rows": null,
            "height": null,
            "justify_content": null,
            "justify_items": null,
            "left": null,
            "margin": null,
            "max_height": null,
            "max_width": null,
            "min_height": null,
            "min_width": null,
            "object_fit": null,
            "object_position": null,
            "order": null,
            "overflow": null,
            "overflow_x": null,
            "overflow_y": null,
            "padding": null,
            "right": null,
            "top": null,
            "visibility": null,
            "width": null
          }
        },
        "1e28bfbe0d3d48f287d0633bd0611f3b": {
          "model_module": "@jupyter-widgets/controls",
          "model_name": "IntProgressModel",
          "model_module_version": "1.5.0",
          "state": {
            "_dom_classes": [],
            "_model_module": "@jupyter-widgets/controls",
            "_model_module_version": "1.5.0",
            "_model_name": "IntProgressModel",
            "_view_count": null,
            "_view_module": "@jupyter-widgets/controls",
            "_view_module_version": "1.5.0",
            "_view_name": "ProgressView",
            "bar_style": "success",
            "description": "100.00%",
            "description_tooltip": null,
            "layout": "IPY_MODEL_1b258da03c23497ebe9cb8238039c4f2",
            "max": 72134,
            "min": 0,
            "orientation": "horizontal",
            "style": "IPY_MODEL_ba8edbdfd9104e09892569792db2dd1d",
            "value": 72134
          }
        },
        "cea6551b63b944feb174599311510c15": {
          "model_module": "@jupyter-widgets/controls",
          "model_name": "LabelModel",
          "model_module_version": "1.5.0",
          "state": {
            "_dom_classes": [],
            "_model_module": "@jupyter-widgets/controls",
            "_model_module_version": "1.5.0",
            "_model_name": "LabelModel",
            "_view_count": null,
            "_view_module": "@jupyter-widgets/controls",
            "_view_module_version": "1.5.0",
            "_view_name": "LabelView",
            "description": "",
            "description_tooltip": null,
            "layout": "IPY_MODEL_35da884982f9453a978e3e2a2a6586bf",
            "placeholder": "​",
            "style": "IPY_MODEL_1d4e45b292bf45818c9f80dc84c7ce9f",
            "value": "72134 / 72134"
          }
        },
        "cc8d8737b1174d6d81854350a528a66f": {
          "model_module": "@jupyter-widgets/base",
          "model_name": "LayoutModel",
          "model_module_version": "1.2.0",
          "state": {
            "_model_module": "@jupyter-widgets/base",
            "_model_module_version": "1.2.0",
            "_model_name": "LayoutModel",
            "_view_count": null,
            "_view_module": "@jupyter-widgets/base",
            "_view_module_version": "1.2.0",
            "_view_name": "LayoutView",
            "align_content": null,
            "align_items": null,
            "align_self": null,
            "border": null,
            "bottom": null,
            "display": null,
            "flex": null,
            "flex_flow": null,
            "grid_area": null,
            "grid_auto_columns": null,
            "grid_auto_flow": null,
            "grid_auto_rows": null,
            "grid_column": null,
            "grid_gap": null,
            "grid_row": null,
            "grid_template_areas": null,
            "grid_template_columns": null,
            "grid_template_rows": null,
            "height": null,
            "justify_content": null,
            "justify_items": null,
            "left": null,
            "margin": null,
            "max_height": null,
            "max_width": null,
            "min_height": null,
            "min_width": null,
            "object_fit": null,
            "object_position": null,
            "order": null,
            "overflow": null,
            "overflow_x": null,
            "overflow_y": null,
            "padding": null,
            "right": null,
            "top": null,
            "visibility": null,
            "width": null
          }
        },
        "1b258da03c23497ebe9cb8238039c4f2": {
          "model_module": "@jupyter-widgets/base",
          "model_name": "LayoutModel",
          "model_module_version": "1.2.0",
          "state": {
            "_model_module": "@jupyter-widgets/base",
            "_model_module_version": "1.2.0",
            "_model_name": "LayoutModel",
            "_view_count": null,
            "_view_module": "@jupyter-widgets/base",
            "_view_module_version": "1.2.0",
            "_view_name": "LayoutView",
            "align_content": null,
            "align_items": null,
            "align_self": null,
            "border": null,
            "bottom": null,
            "display": null,
            "flex": null,
            "flex_flow": null,
            "grid_area": null,
            "grid_auto_columns": null,
            "grid_auto_flow": null,
            "grid_auto_rows": null,
            "grid_column": null,
            "grid_gap": null,
            "grid_row": null,
            "grid_template_areas": null,
            "grid_template_columns": null,
            "grid_template_rows": null,
            "height": null,
            "justify_content": null,
            "justify_items": null,
            "left": null,
            "margin": null,
            "max_height": null,
            "max_width": null,
            "min_height": null,
            "min_width": null,
            "object_fit": null,
            "object_position": null,
            "order": null,
            "overflow": null,
            "overflow_x": null,
            "overflow_y": null,
            "padding": null,
            "right": null,
            "top": null,
            "visibility": null,
            "width": null
          }
        },
        "ba8edbdfd9104e09892569792db2dd1d": {
          "model_module": "@jupyter-widgets/controls",
          "model_name": "ProgressStyleModel",
          "model_module_version": "1.5.0",
          "state": {
            "_model_module": "@jupyter-widgets/controls",
            "_model_module_version": "1.5.0",
            "_model_name": "ProgressStyleModel",
            "_view_count": null,
            "_view_module": "@jupyter-widgets/base",
            "_view_module_version": "1.2.0",
            "_view_name": "StyleView",
            "bar_color": null,
            "description_width": ""
          }
        },
        "35da884982f9453a978e3e2a2a6586bf": {
          "model_module": "@jupyter-widgets/base",
          "model_name": "LayoutModel",
          "model_module_version": "1.2.0",
          "state": {
            "_model_module": "@jupyter-widgets/base",
            "_model_module_version": "1.2.0",
            "_model_name": "LayoutModel",
            "_view_count": null,
            "_view_module": "@jupyter-widgets/base",
            "_view_module_version": "1.2.0",
            "_view_name": "LayoutView",
            "align_content": null,
            "align_items": null,
            "align_self": null,
            "border": null,
            "bottom": null,
            "display": null,
            "flex": null,
            "flex_flow": null,
            "grid_area": null,
            "grid_auto_columns": null,
            "grid_auto_flow": null,
            "grid_auto_rows": null,
            "grid_column": null,
            "grid_gap": null,
            "grid_row": null,
            "grid_template_areas": null,
            "grid_template_columns": null,
            "grid_template_rows": null,
            "height": null,
            "justify_content": null,
            "justify_items": null,
            "left": null,
            "margin": null,
            "max_height": null,
            "max_width": null,
            "min_height": null,
            "min_width": null,
            "object_fit": null,
            "object_position": null,
            "order": null,
            "overflow": null,
            "overflow_x": null,
            "overflow_y": null,
            "padding": null,
            "right": null,
            "top": null,
            "visibility": null,
            "width": null
          }
        },
        "1d4e45b292bf45818c9f80dc84c7ce9f": {
          "model_module": "@jupyter-widgets/controls",
          "model_name": "DescriptionStyleModel",
          "model_module_version": "1.5.0",
          "state": {
            "_model_module": "@jupyter-widgets/controls",
            "_model_module_version": "1.5.0",
            "_model_name": "DescriptionStyleModel",
            "_view_count": null,
            "_view_module": "@jupyter-widgets/base",
            "_view_module_version": "1.2.0",
            "_view_name": "StyleView",
            "description_width": ""
          }
        }
      }
    }
  },
  "nbformat": 4,
  "nbformat_minor": 0
}